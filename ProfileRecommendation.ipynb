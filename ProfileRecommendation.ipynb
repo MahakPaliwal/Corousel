{
  "nbformat": 4,
  "nbformat_minor": 0,
  "metadata": {
    "colab": {
      "name": "Untitled0.ipynb",
      "provenance": [],
      "collapsed_sections": [],
      "authorship_tag": "ABX9TyOFWIniULYAtz+djPPmLnW5",
      "include_colab_link": true
    },
    "kernelspec": {
      "name": "python3",
      "display_name": "Python 3"
    },
    "language_info": {
      "name": "python"
    }
  },
  "cells": [
    {
      "cell_type": "markdown",
      "metadata": {
        "id": "view-in-github",
        "colab_type": "text"
      },
      "source": [
        "<a href=\"https://colab.research.google.com/github/MahakPaliwal/Corousel/blob/main/ProfileRecommendation.ipynb\" target=\"_parent\"><img src=\"https://colab.research.google.com/assets/colab-badge.svg\" alt=\"Open In Colab\"/></a>"
      ]
    },
    {
      "cell_type": "markdown",
      "source": [
        ""
      ],
      "metadata": {
        "id": "Fhyjsvh4yN3F"
      }
    },
    {
      "cell_type": "code",
      "execution_count": 139,
      "metadata": {
        "id": "9r2MmYh3Tveh"
      },
      "outputs": [],
      "source": [
        "import pandas as pd\n",
        "import numpy as np\n",
        "import difflib\n",
        "from sklearn.feature_extraction.text import TfidfVectorizer\n",
        "from sklearn.metrics.pairwise import cosine_similarity"
      ]
    },
    {
      "cell_type": "code",
      "source": [
        "df=pd.read_csv(\"/content/profile.csv\",encoding='cp1252')\n",
        "df"
      ],
      "metadata": {
        "colab": {
          "base_uri": "https://localhost:8080/",
          "height": 424
        },
        "id": "DxtBsizeT-xo",
        "outputId": "d14c2e5a-4fa7-4e58-a16c-32c209fdddc1"
      },
      "execution_count": 140,
      "outputs": [
        {
          "output_type": "execute_result",
          "data": {
            "text/plain": [
              "      INDEX     USER_ID             NAME  AGE QUALIFICATION JOB EXPERIENCE  \\\n",
              "0         1  58283940.0  Sameer Wadhawan   41        Master              1   \n",
              "1         2   1357218.0   Adarsh Krishna   41        Master              3   \n",
              "2         3  63212105.0    Shrivas Mohit   31        Master              3   \n",
              "3         4  23239851.0    Harshit Saini   41        Master            1,5   \n",
              "4         5  72234478.0     Rakesh Kumar   30           Phd            NaN   \n",
              "...     ...         ...              ...  ...           ...            ...   \n",
              "8377   8378         NaN              NaN   46           NaN            NaN   \n",
              "8378   8379         NaN              NaN   46           NaN            NaN   \n",
              "8379   8380         NaN              NaN   46           NaN            NaN   \n",
              "8380   8381         NaN              NaN   46           NaN            NaN   \n",
              "8381   8382         NaN              NaN   46           NaN            NaN   \n",
              "\n",
              "                         LOCATION  TECHNOLOGIES  \n",
              "0         Gurgaon, Haryana, India  HTML and CSS  \n",
              "1        Pune, Maharashtra, India        Python  \n",
              "2     Bengaluru, Karnataka, India          Java  \n",
              "3                Pune Area, India    JavaScript  \n",
              "4     Central Delhi, Delhi, India         Swift  \n",
              "...                           ...           ...  \n",
              "8377                          NaN           NaN  \n",
              "8378                          NaN           NaN  \n",
              "8379                          NaN           NaN  \n",
              "8380                          NaN           NaN  \n",
              "8381                          NaN           NaN  \n",
              "\n",
              "[8382 rows x 8 columns]"
            ],
            "text/html": [
              "\n",
              "  <div id=\"df-667bec03-63c7-4aa2-a1c7-d1d8ee7233bb\">\n",
              "    <div class=\"colab-df-container\">\n",
              "      <div>\n",
              "<style scoped>\n",
              "    .dataframe tbody tr th:only-of-type {\n",
              "        vertical-align: middle;\n",
              "    }\n",
              "\n",
              "    .dataframe tbody tr th {\n",
              "        vertical-align: top;\n",
              "    }\n",
              "\n",
              "    .dataframe thead th {\n",
              "        text-align: right;\n",
              "    }\n",
              "</style>\n",
              "<table border=\"1\" class=\"dataframe\">\n",
              "  <thead>\n",
              "    <tr style=\"text-align: right;\">\n",
              "      <th></th>\n",
              "      <th>INDEX</th>\n",
              "      <th>USER_ID</th>\n",
              "      <th>NAME</th>\n",
              "      <th>AGE</th>\n",
              "      <th>QUALIFICATION</th>\n",
              "      <th>JOB EXPERIENCE</th>\n",
              "      <th>LOCATION</th>\n",
              "      <th>TECHNOLOGIES</th>\n",
              "    </tr>\n",
              "  </thead>\n",
              "  <tbody>\n",
              "    <tr>\n",
              "      <th>0</th>\n",
              "      <td>1</td>\n",
              "      <td>58283940.0</td>\n",
              "      <td>Sameer Wadhawan</td>\n",
              "      <td>41</td>\n",
              "      <td>Master</td>\n",
              "      <td>1</td>\n",
              "      <td>Gurgaon, Haryana, India</td>\n",
              "      <td>HTML and CSS</td>\n",
              "    </tr>\n",
              "    <tr>\n",
              "      <th>1</th>\n",
              "      <td>2</td>\n",
              "      <td>1357218.0</td>\n",
              "      <td>Adarsh Krishna</td>\n",
              "      <td>41</td>\n",
              "      <td>Master</td>\n",
              "      <td>3</td>\n",
              "      <td>Pune, Maharashtra, India</td>\n",
              "      <td>Python</td>\n",
              "    </tr>\n",
              "    <tr>\n",
              "      <th>2</th>\n",
              "      <td>3</td>\n",
              "      <td>63212105.0</td>\n",
              "      <td>Shrivas Mohit</td>\n",
              "      <td>31</td>\n",
              "      <td>Master</td>\n",
              "      <td>3</td>\n",
              "      <td>Bengaluru, Karnataka, India</td>\n",
              "      <td>Java</td>\n",
              "    </tr>\n",
              "    <tr>\n",
              "      <th>3</th>\n",
              "      <td>4</td>\n",
              "      <td>23239851.0</td>\n",
              "      <td>Harshit Saini</td>\n",
              "      <td>41</td>\n",
              "      <td>Master</td>\n",
              "      <td>1,5</td>\n",
              "      <td>Pune Area, India</td>\n",
              "      <td>JavaScript</td>\n",
              "    </tr>\n",
              "    <tr>\n",
              "      <th>4</th>\n",
              "      <td>5</td>\n",
              "      <td>72234478.0</td>\n",
              "      <td>Rakesh Kumar</td>\n",
              "      <td>30</td>\n",
              "      <td>Phd</td>\n",
              "      <td>NaN</td>\n",
              "      <td>Central Delhi, Delhi, India</td>\n",
              "      <td>Swift</td>\n",
              "    </tr>\n",
              "    <tr>\n",
              "      <th>...</th>\n",
              "      <td>...</td>\n",
              "      <td>...</td>\n",
              "      <td>...</td>\n",
              "      <td>...</td>\n",
              "      <td>...</td>\n",
              "      <td>...</td>\n",
              "      <td>...</td>\n",
              "      <td>...</td>\n",
              "    </tr>\n",
              "    <tr>\n",
              "      <th>8377</th>\n",
              "      <td>8378</td>\n",
              "      <td>NaN</td>\n",
              "      <td>NaN</td>\n",
              "      <td>46</td>\n",
              "      <td>NaN</td>\n",
              "      <td>NaN</td>\n",
              "      <td>NaN</td>\n",
              "      <td>NaN</td>\n",
              "    </tr>\n",
              "    <tr>\n",
              "      <th>8378</th>\n",
              "      <td>8379</td>\n",
              "      <td>NaN</td>\n",
              "      <td>NaN</td>\n",
              "      <td>46</td>\n",
              "      <td>NaN</td>\n",
              "      <td>NaN</td>\n",
              "      <td>NaN</td>\n",
              "      <td>NaN</td>\n",
              "    </tr>\n",
              "    <tr>\n",
              "      <th>8379</th>\n",
              "      <td>8380</td>\n",
              "      <td>NaN</td>\n",
              "      <td>NaN</td>\n",
              "      <td>46</td>\n",
              "      <td>NaN</td>\n",
              "      <td>NaN</td>\n",
              "      <td>NaN</td>\n",
              "      <td>NaN</td>\n",
              "    </tr>\n",
              "    <tr>\n",
              "      <th>8380</th>\n",
              "      <td>8381</td>\n",
              "      <td>NaN</td>\n",
              "      <td>NaN</td>\n",
              "      <td>46</td>\n",
              "      <td>NaN</td>\n",
              "      <td>NaN</td>\n",
              "      <td>NaN</td>\n",
              "      <td>NaN</td>\n",
              "    </tr>\n",
              "    <tr>\n",
              "      <th>8381</th>\n",
              "      <td>8382</td>\n",
              "      <td>NaN</td>\n",
              "      <td>NaN</td>\n",
              "      <td>46</td>\n",
              "      <td>NaN</td>\n",
              "      <td>NaN</td>\n",
              "      <td>NaN</td>\n",
              "      <td>NaN</td>\n",
              "    </tr>\n",
              "  </tbody>\n",
              "</table>\n",
              "<p>8382 rows × 8 columns</p>\n",
              "</div>\n",
              "      <button class=\"colab-df-convert\" onclick=\"convertToInteractive('df-667bec03-63c7-4aa2-a1c7-d1d8ee7233bb')\"\n",
              "              title=\"Convert this dataframe to an interactive table.\"\n",
              "              style=\"display:none;\">\n",
              "        \n",
              "  <svg xmlns=\"http://www.w3.org/2000/svg\" height=\"24px\"viewBox=\"0 0 24 24\"\n",
              "       width=\"24px\">\n",
              "    <path d=\"M0 0h24v24H0V0z\" fill=\"none\"/>\n",
              "    <path d=\"M18.56 5.44l.94 2.06.94-2.06 2.06-.94-2.06-.94-.94-2.06-.94 2.06-2.06.94zm-11 1L8.5 8.5l.94-2.06 2.06-.94-2.06-.94L8.5 2.5l-.94 2.06-2.06.94zm10 10l.94 2.06.94-2.06 2.06-.94-2.06-.94-.94-2.06-.94 2.06-2.06.94z\"/><path d=\"M17.41 7.96l-1.37-1.37c-.4-.4-.92-.59-1.43-.59-.52 0-1.04.2-1.43.59L10.3 9.45l-7.72 7.72c-.78.78-.78 2.05 0 2.83L4 21.41c.39.39.9.59 1.41.59.51 0 1.02-.2 1.41-.59l7.78-7.78 2.81-2.81c.8-.78.8-2.07 0-2.86zM5.41 20L4 18.59l7.72-7.72 1.47 1.35L5.41 20z\"/>\n",
              "  </svg>\n",
              "      </button>\n",
              "      \n",
              "  <style>\n",
              "    .colab-df-container {\n",
              "      display:flex;\n",
              "      flex-wrap:wrap;\n",
              "      gap: 12px;\n",
              "    }\n",
              "\n",
              "    .colab-df-convert {\n",
              "      background-color: #E8F0FE;\n",
              "      border: none;\n",
              "      border-radius: 50%;\n",
              "      cursor: pointer;\n",
              "      display: none;\n",
              "      fill: #1967D2;\n",
              "      height: 32px;\n",
              "      padding: 0 0 0 0;\n",
              "      width: 32px;\n",
              "    }\n",
              "\n",
              "    .colab-df-convert:hover {\n",
              "      background-color: #E2EBFA;\n",
              "      box-shadow: 0px 1px 2px rgba(60, 64, 67, 0.3), 0px 1px 3px 1px rgba(60, 64, 67, 0.15);\n",
              "      fill: #174EA6;\n",
              "    }\n",
              "\n",
              "    [theme=dark] .colab-df-convert {\n",
              "      background-color: #3B4455;\n",
              "      fill: #D2E3FC;\n",
              "    }\n",
              "\n",
              "    [theme=dark] .colab-df-convert:hover {\n",
              "      background-color: #434B5C;\n",
              "      box-shadow: 0px 1px 3px 1px rgba(0, 0, 0, 0.15);\n",
              "      filter: drop-shadow(0px 1px 2px rgba(0, 0, 0, 0.3));\n",
              "      fill: #FFFFFF;\n",
              "    }\n",
              "  </style>\n",
              "\n",
              "      <script>\n",
              "        const buttonEl =\n",
              "          document.querySelector('#df-667bec03-63c7-4aa2-a1c7-d1d8ee7233bb button.colab-df-convert');\n",
              "        buttonEl.style.display =\n",
              "          google.colab.kernel.accessAllowed ? 'block' : 'none';\n",
              "\n",
              "        async function convertToInteractive(key) {\n",
              "          const element = document.querySelector('#df-667bec03-63c7-4aa2-a1c7-d1d8ee7233bb');\n",
              "          const dataTable =\n",
              "            await google.colab.kernel.invokeFunction('convertToInteractive',\n",
              "                                                     [key], {});\n",
              "          if (!dataTable) return;\n",
              "\n",
              "          const docLinkHtml = 'Like what you see? Visit the ' +\n",
              "            '<a target=\"_blank\" href=https://colab.research.google.com/notebooks/data_table.ipynb>data table notebook</a>'\n",
              "            + ' to learn more about interactive tables.';\n",
              "          element.innerHTML = '';\n",
              "          dataTable['output_type'] = 'display_data';\n",
              "          await google.colab.output.renderOutput(dataTable, element);\n",
              "          const docLink = document.createElement('div');\n",
              "          docLink.innerHTML = docLinkHtml;\n",
              "          element.appendChild(docLink);\n",
              "        }\n",
              "      </script>\n",
              "    </div>\n",
              "  </div>\n",
              "  "
            ]
          },
          "metadata": {},
          "execution_count": 140
        }
      ]
    },
    {
      "cell_type": "code",
      "source": [
        "df.shape"
      ],
      "metadata": {
        "colab": {
          "base_uri": "https://localhost:8080/"
        },
        "id": "o1hqfzCBUt0M",
        "outputId": "2fafa7de-e60d-4b5a-ebc8-a7b3d0a50508"
      },
      "execution_count": 141,
      "outputs": [
        {
          "output_type": "execute_result",
          "data": {
            "text/plain": [
              "(8382, 8)"
            ]
          },
          "metadata": {},
          "execution_count": 141
        }
      ]
    },
    {
      "cell_type": "code",
      "source": [
        "df.isnull().sum()"
      ],
      "metadata": {
        "colab": {
          "base_uri": "https://localhost:8080/"
        },
        "id": "RMu_YZVDU1R4",
        "outputId": "94aee9e5-ba12-4749-fe69-cc2c79f3c20c"
      },
      "execution_count": 142,
      "outputs": [
        {
          "output_type": "execute_result",
          "data": {
            "text/plain": [
              "INDEX                0\n",
              "USER_ID           7134\n",
              "NAME              7143\n",
              "AGE                  0\n",
              "QUALIFICATION     7134\n",
              "JOB EXPERIENCE    7143\n",
              "LOCATION          7143\n",
              "TECHNOLOGIES      6778\n",
              "dtype: int64"
            ]
          },
          "metadata": {},
          "execution_count": 142
        }
      ]
    },
    {
      "cell_type": "code",
      "source": [
        "df.dropna(how='any',inplace=True)\n",
        "df.shape"
      ],
      "metadata": {
        "colab": {
          "base_uri": "https://localhost:8080/"
        },
        "id": "xJaQok5nU9V-",
        "outputId": "00ed2236-7fa0-4fc6-8a0a-41844932c89e"
      },
      "execution_count": 143,
      "outputs": [
        {
          "output_type": "execute_result",
          "data": {
            "text/plain": [
              "(1230, 8)"
            ]
          },
          "metadata": {},
          "execution_count": 143
        }
      ]
    },
    {
      "cell_type": "code",
      "source": [
        "df.isnull().sum()"
      ],
      "metadata": {
        "colab": {
          "base_uri": "https://localhost:8080/"
        },
        "id": "fWNDaPJiU_z7",
        "outputId": "4323cad0-8c6e-4046-8cf0-0a4f6685f015"
      },
      "execution_count": 144,
      "outputs": [
        {
          "output_type": "execute_result",
          "data": {
            "text/plain": [
              "INDEX             0\n",
              "USER_ID           0\n",
              "NAME              0\n",
              "AGE               0\n",
              "QUALIFICATION     0\n",
              "JOB EXPERIENCE    0\n",
              "LOCATION          0\n",
              "TECHNOLOGIES      0\n",
              "dtype: int64"
            ]
          },
          "metadata": {},
          "execution_count": 144
        }
      ]
    },
    {
      "cell_type": "code",
      "source": [
        "df"
      ],
      "metadata": {
        "colab": {
          "base_uri": "https://localhost:8080/",
          "height": 424
        },
        "id": "wmBtgnfrVFss",
        "outputId": "b9986eb3-7376-4ae0-9f06-38322fdfa45b"
      },
      "execution_count": 145,
      "outputs": [
        {
          "output_type": "execute_result",
          "data": {
            "text/plain": [
              "      INDEX     USER_ID                       NAME  AGE QUALIFICATION  \\\n",
              "0         1  58283940.0            Sameer Wadhawan   41        Master   \n",
              "1         2   1357218.0             Adarsh Krishna   41        Master   \n",
              "2         3  63212105.0              Shrivas Mohit   31        Master   \n",
              "3         4  23239851.0              Harshit Saini   41        Master   \n",
              "5         6   9116044.0               Yashi Sharma   30        Master   \n",
              "...     ...         ...                        ...  ...           ...   \n",
              "1243   1244  94419433.0  britishairhostess academy   39      Bachelor   \n",
              "1244   1245   5457032.0          Ramaiah Manjunath   39           Phd   \n",
              "1245   1246  55014906.0            Shubham Pradhan   39           Phd   \n",
              "1246   1247   9556102.0              Alfiya Shaikh   39        Master   \n",
              "1247   1248  95817536.0            ABHISHEK TIWARI   39           Phd   \n",
              "\n",
              "     JOB EXPERIENCE                        LOCATION  TECHNOLOGIES  \n",
              "0                 1         Gurgaon, Haryana, India  HTML and CSS  \n",
              "1                 3        Pune, Maharashtra, India        Python  \n",
              "2                 3     Bengaluru, Karnataka, India          Java  \n",
              "3               1,5                Pune Area, India    JavaScript  \n",
              "5                 6        Pune, Maharashtra, India           C++  \n",
              "...             ...                             ...           ...  \n",
              "1243              4   Chandigarh, Chandigarh, India  HTML and CSS  \n",
              "1244              2  Krishnagiri, Tamil Nadu, India        Python  \n",
              "1245              6      Mumbai, Maharashtra, India          Java  \n",
              "1246            0,5      Mumbai, Maharashtra, India    JavaScript  \n",
              "1247            2,5       Thane, Maharashtra, India         Swift  \n",
              "\n",
              "[1230 rows x 8 columns]"
            ],
            "text/html": [
              "\n",
              "  <div id=\"df-36760d1d-28bb-4f21-ad7e-d2ab177122ad\">\n",
              "    <div class=\"colab-df-container\">\n",
              "      <div>\n",
              "<style scoped>\n",
              "    .dataframe tbody tr th:only-of-type {\n",
              "        vertical-align: middle;\n",
              "    }\n",
              "\n",
              "    .dataframe tbody tr th {\n",
              "        vertical-align: top;\n",
              "    }\n",
              "\n",
              "    .dataframe thead th {\n",
              "        text-align: right;\n",
              "    }\n",
              "</style>\n",
              "<table border=\"1\" class=\"dataframe\">\n",
              "  <thead>\n",
              "    <tr style=\"text-align: right;\">\n",
              "      <th></th>\n",
              "      <th>INDEX</th>\n",
              "      <th>USER_ID</th>\n",
              "      <th>NAME</th>\n",
              "      <th>AGE</th>\n",
              "      <th>QUALIFICATION</th>\n",
              "      <th>JOB EXPERIENCE</th>\n",
              "      <th>LOCATION</th>\n",
              "      <th>TECHNOLOGIES</th>\n",
              "    </tr>\n",
              "  </thead>\n",
              "  <tbody>\n",
              "    <tr>\n",
              "      <th>0</th>\n",
              "      <td>1</td>\n",
              "      <td>58283940.0</td>\n",
              "      <td>Sameer Wadhawan</td>\n",
              "      <td>41</td>\n",
              "      <td>Master</td>\n",
              "      <td>1</td>\n",
              "      <td>Gurgaon, Haryana, India</td>\n",
              "      <td>HTML and CSS</td>\n",
              "    </tr>\n",
              "    <tr>\n",
              "      <th>1</th>\n",
              "      <td>2</td>\n",
              "      <td>1357218.0</td>\n",
              "      <td>Adarsh Krishna</td>\n",
              "      <td>41</td>\n",
              "      <td>Master</td>\n",
              "      <td>3</td>\n",
              "      <td>Pune, Maharashtra, India</td>\n",
              "      <td>Python</td>\n",
              "    </tr>\n",
              "    <tr>\n",
              "      <th>2</th>\n",
              "      <td>3</td>\n",
              "      <td>63212105.0</td>\n",
              "      <td>Shrivas Mohit</td>\n",
              "      <td>31</td>\n",
              "      <td>Master</td>\n",
              "      <td>3</td>\n",
              "      <td>Bengaluru, Karnataka, India</td>\n",
              "      <td>Java</td>\n",
              "    </tr>\n",
              "    <tr>\n",
              "      <th>3</th>\n",
              "      <td>4</td>\n",
              "      <td>23239851.0</td>\n",
              "      <td>Harshit Saini</td>\n",
              "      <td>41</td>\n",
              "      <td>Master</td>\n",
              "      <td>1,5</td>\n",
              "      <td>Pune Area, India</td>\n",
              "      <td>JavaScript</td>\n",
              "    </tr>\n",
              "    <tr>\n",
              "      <th>5</th>\n",
              "      <td>6</td>\n",
              "      <td>9116044.0</td>\n",
              "      <td>Yashi Sharma</td>\n",
              "      <td>30</td>\n",
              "      <td>Master</td>\n",
              "      <td>6</td>\n",
              "      <td>Pune, Maharashtra, India</td>\n",
              "      <td>C++</td>\n",
              "    </tr>\n",
              "    <tr>\n",
              "      <th>...</th>\n",
              "      <td>...</td>\n",
              "      <td>...</td>\n",
              "      <td>...</td>\n",
              "      <td>...</td>\n",
              "      <td>...</td>\n",
              "      <td>...</td>\n",
              "      <td>...</td>\n",
              "      <td>...</td>\n",
              "    </tr>\n",
              "    <tr>\n",
              "      <th>1243</th>\n",
              "      <td>1244</td>\n",
              "      <td>94419433.0</td>\n",
              "      <td>britishairhostess academy</td>\n",
              "      <td>39</td>\n",
              "      <td>Bachelor</td>\n",
              "      <td>4</td>\n",
              "      <td>Chandigarh, Chandigarh, India</td>\n",
              "      <td>HTML and CSS</td>\n",
              "    </tr>\n",
              "    <tr>\n",
              "      <th>1244</th>\n",
              "      <td>1245</td>\n",
              "      <td>5457032.0</td>\n",
              "      <td>Ramaiah Manjunath</td>\n",
              "      <td>39</td>\n",
              "      <td>Phd</td>\n",
              "      <td>2</td>\n",
              "      <td>Krishnagiri, Tamil Nadu, India</td>\n",
              "      <td>Python</td>\n",
              "    </tr>\n",
              "    <tr>\n",
              "      <th>1245</th>\n",
              "      <td>1246</td>\n",
              "      <td>55014906.0</td>\n",
              "      <td>Shubham Pradhan</td>\n",
              "      <td>39</td>\n",
              "      <td>Phd</td>\n",
              "      <td>6</td>\n",
              "      <td>Mumbai, Maharashtra, India</td>\n",
              "      <td>Java</td>\n",
              "    </tr>\n",
              "    <tr>\n",
              "      <th>1246</th>\n",
              "      <td>1247</td>\n",
              "      <td>9556102.0</td>\n",
              "      <td>Alfiya Shaikh</td>\n",
              "      <td>39</td>\n",
              "      <td>Master</td>\n",
              "      <td>0,5</td>\n",
              "      <td>Mumbai, Maharashtra, India</td>\n",
              "      <td>JavaScript</td>\n",
              "    </tr>\n",
              "    <tr>\n",
              "      <th>1247</th>\n",
              "      <td>1248</td>\n",
              "      <td>95817536.0</td>\n",
              "      <td>ABHISHEK TIWARI</td>\n",
              "      <td>39</td>\n",
              "      <td>Phd</td>\n",
              "      <td>2,5</td>\n",
              "      <td>Thane, Maharashtra, India</td>\n",
              "      <td>Swift</td>\n",
              "    </tr>\n",
              "  </tbody>\n",
              "</table>\n",
              "<p>1230 rows × 8 columns</p>\n",
              "</div>\n",
              "      <button class=\"colab-df-convert\" onclick=\"convertToInteractive('df-36760d1d-28bb-4f21-ad7e-d2ab177122ad')\"\n",
              "              title=\"Convert this dataframe to an interactive table.\"\n",
              "              style=\"display:none;\">\n",
              "        \n",
              "  <svg xmlns=\"http://www.w3.org/2000/svg\" height=\"24px\"viewBox=\"0 0 24 24\"\n",
              "       width=\"24px\">\n",
              "    <path d=\"M0 0h24v24H0V0z\" fill=\"none\"/>\n",
              "    <path d=\"M18.56 5.44l.94 2.06.94-2.06 2.06-.94-2.06-.94-.94-2.06-.94 2.06-2.06.94zm-11 1L8.5 8.5l.94-2.06 2.06-.94-2.06-.94L8.5 2.5l-.94 2.06-2.06.94zm10 10l.94 2.06.94-2.06 2.06-.94-2.06-.94-.94-2.06-.94 2.06-2.06.94z\"/><path d=\"M17.41 7.96l-1.37-1.37c-.4-.4-.92-.59-1.43-.59-.52 0-1.04.2-1.43.59L10.3 9.45l-7.72 7.72c-.78.78-.78 2.05 0 2.83L4 21.41c.39.39.9.59 1.41.59.51 0 1.02-.2 1.41-.59l7.78-7.78 2.81-2.81c.8-.78.8-2.07 0-2.86zM5.41 20L4 18.59l7.72-7.72 1.47 1.35L5.41 20z\"/>\n",
              "  </svg>\n",
              "      </button>\n",
              "      \n",
              "  <style>\n",
              "    .colab-df-container {\n",
              "      display:flex;\n",
              "      flex-wrap:wrap;\n",
              "      gap: 12px;\n",
              "    }\n",
              "\n",
              "    .colab-df-convert {\n",
              "      background-color: #E8F0FE;\n",
              "      border: none;\n",
              "      border-radius: 50%;\n",
              "      cursor: pointer;\n",
              "      display: none;\n",
              "      fill: #1967D2;\n",
              "      height: 32px;\n",
              "      padding: 0 0 0 0;\n",
              "      width: 32px;\n",
              "    }\n",
              "\n",
              "    .colab-df-convert:hover {\n",
              "      background-color: #E2EBFA;\n",
              "      box-shadow: 0px 1px 2px rgba(60, 64, 67, 0.3), 0px 1px 3px 1px rgba(60, 64, 67, 0.15);\n",
              "      fill: #174EA6;\n",
              "    }\n",
              "\n",
              "    [theme=dark] .colab-df-convert {\n",
              "      background-color: #3B4455;\n",
              "      fill: #D2E3FC;\n",
              "    }\n",
              "\n",
              "    [theme=dark] .colab-df-convert:hover {\n",
              "      background-color: #434B5C;\n",
              "      box-shadow: 0px 1px 3px 1px rgba(0, 0, 0, 0.15);\n",
              "      filter: drop-shadow(0px 1px 2px rgba(0, 0, 0, 0.3));\n",
              "      fill: #FFFFFF;\n",
              "    }\n",
              "  </style>\n",
              "\n",
              "      <script>\n",
              "        const buttonEl =\n",
              "          document.querySelector('#df-36760d1d-28bb-4f21-ad7e-d2ab177122ad button.colab-df-convert');\n",
              "        buttonEl.style.display =\n",
              "          google.colab.kernel.accessAllowed ? 'block' : 'none';\n",
              "\n",
              "        async function convertToInteractive(key) {\n",
              "          const element = document.querySelector('#df-36760d1d-28bb-4f21-ad7e-d2ab177122ad');\n",
              "          const dataTable =\n",
              "            await google.colab.kernel.invokeFunction('convertToInteractive',\n",
              "                                                     [key], {});\n",
              "          if (!dataTable) return;\n",
              "\n",
              "          const docLinkHtml = 'Like what you see? Visit the ' +\n",
              "            '<a target=\"_blank\" href=https://colab.research.google.com/notebooks/data_table.ipynb>data table notebook</a>'\n",
              "            + ' to learn more about interactive tables.';\n",
              "          element.innerHTML = '';\n",
              "          dataTable['output_type'] = 'display_data';\n",
              "          await google.colab.output.renderOutput(dataTable, element);\n",
              "          const docLink = document.createElement('div');\n",
              "          docLink.innerHTML = docLinkHtml;\n",
              "          element.appendChild(docLink);\n",
              "        }\n",
              "      </script>\n",
              "    </div>\n",
              "  </div>\n",
              "  "
            ]
          },
          "metadata": {},
          "execution_count": 145
        }
      ]
    },
    {
      "cell_type": "code",
      "source": [
        "selected_features=['TECHNOLOGIES','QUALIFICATION','JOB EXPERIENCE']\n",
        "combined_features= df['TECHNOLOGIES']+' '+df['QUALIFICATION']+' '+df['JOB EXPERIENCE']\n",
        "combined_features"
      ],
      "metadata": {
        "colab": {
          "base_uri": "https://localhost:8080/"
        },
        "id": "Msr6SSyiVK-o",
        "outputId": "b9a0464f-499b-4a81-ad5e-92b8e949892b"
      },
      "execution_count": 146,
      "outputs": [
        {
          "output_type": "execute_result",
          "data": {
            "text/plain": [
              "0         HTML and CSS Master 1\n",
              "1               Python Master 3\n",
              "2                 Java Master 3\n",
              "3         JavaScript Master 1,5\n",
              "5                  C++ Master 6\n",
              "                 ...           \n",
              "1243    HTML and CSS Bachelor 4\n",
              "1244               Python Phd 2\n",
              "1245                 Java Phd 6\n",
              "1246      JavaScript Master 0,5\n",
              "1247              Swift Phd 2,5\n",
              "Length: 1230, dtype: object"
            ]
          },
          "metadata": {},
          "execution_count": 146
        }
      ]
    },
    {
      "cell_type": "code",
      "source": [
        "vector=TfidfVectorizer()\n",
        "feature_vector=vector.fit_transform(combined_features)"
      ],
      "metadata": {
        "id": "rS8V6fIiVULE"
      },
      "execution_count": 147,
      "outputs": []
    },
    {
      "cell_type": "code",
      "source": [
        "similarity=cosine_similarity(feature_vector)"
      ],
      "metadata": {
        "id": "n39LCO77VaJ-"
      },
      "execution_count": 148,
      "outputs": []
    },
    {
      "cell_type": "code",
      "source": [
        "print(similarity)"
      ],
      "metadata": {
        "colab": {
          "base_uri": "https://localhost:8080/"
        },
        "id": "-AawsKMHVgay",
        "outputId": "b3425179-f556-44ce-96d0-6387b3900a1a"
      },
      "execution_count": 149,
      "outputs": [
        {
          "output_type": "stream",
          "name": "stdout",
          "text": [
            "[[1.         0.1146874  0.11495603 ... 0.         0.11495603 0.        ]\n",
            " [0.1146874  1.         0.18756244 ... 0.         0.18756244 0.        ]\n",
            " [0.11495603 0.18756244 1.         ... 0.74404483 0.18800176 0.        ]\n",
            " ...\n",
            " [0.         0.         0.74404483 ... 1.         0.         0.30972568]\n",
            " [0.11495603 0.18756244 0.18800176 ... 0.         1.         0.        ]\n",
            " [0.         0.         0.         ... 0.30972568 0.         1.        ]]\n"
          ]
        }
      ]
    },
    {
      "cell_type": "code",
      "source": [
        "similarity.shape"
      ],
      "metadata": {
        "colab": {
          "base_uri": "https://localhost:8080/"
        },
        "id": "oHtIEtAHVo-3",
        "outputId": "bad1620a-cada-46fe-81f6-a861be575562"
      },
      "execution_count": 150,
      "outputs": [
        {
          "output_type": "execute_result",
          "data": {
            "text/plain": [
              "(1230, 1230)"
            ]
          },
          "metadata": {},
          "execution_count": 150
        }
      ]
    },
    {
      "cell_type": "code",
      "source": [
        "tech=input('Enter Technology : ')"
      ],
      "metadata": {
        "colab": {
          "base_uri": "https://localhost:8080/"
        },
        "id": "GZ7V7QT0Vv1X",
        "outputId": "1bbf616a-190e-47ce-a037-a17163f4738a"
      },
      "execution_count": 151,
      "outputs": [
        {
          "name": "stdout",
          "output_type": "stream",
          "text": [
            "Enter Technology : java\n"
          ]
        }
      ]
    },
    {
      "cell_type": "code",
      "source": [
        "techList=df['TECHNOLOGIES'].tolist()"
      ],
      "metadata": {
        "id": "Xbt1l0_kWAH7"
      },
      "execution_count": 152,
      "outputs": []
    },
    {
      "cell_type": "code",
      "source": [
        "print(techList)"
      ],
      "metadata": {
        "colab": {
          "base_uri": "https://localhost:8080/"
        },
        "id": "ucZ4CCZPWFfG",
        "outputId": "c297fcb6-827f-4627-b761-7f669d9c7954"
      },
      "execution_count": 153,
      "outputs": [
        {
          "output_type": "stream",
          "name": "stdout",
          "text": [
            "['HTML and CSS', 'Python', 'Java', 'JavaScript', 'C++', 'C#', 'R', 'Golang (Go)', 'Django', 'Flask', 'Ruby', 'PHP', 'HTML and CSS', 'Python', 'Java', 'JavaScript', 'Swift', 'C++', 'C#', 'R', 'Golang (Go)', 'Django', 'Flask', 'Ruby', 'PHP', 'HTML and CSS', 'Python', 'JavaScript', 'Swift', 'C++', 'C#', 'R', 'Golang (Go)', 'Django', 'Flask', 'Ruby', 'PHP', 'HTML and CSS', 'Python', 'Java', 'JavaScript', 'Swift', 'C++', 'C#', 'R', 'Golang (Go)', 'Django', 'Flask', 'Ruby', '\\xa0PHP', 'HTML and CSS', 'Python', 'Java', 'JavaScript', 'Swift', 'C++', 'C#', 'R', 'Golang (Go)', 'Django', 'Flask', 'Ruby', 'PHP', 'HTML and CSS', 'Python', 'Java', 'JavaScript', 'Swift', 'C++', 'C#', 'R', 'Golang (Go)', 'Django', 'Flask', 'Ruby', '\\xa0PHP', 'HTML and CSS', 'Python', 'Java', 'JavaScript', 'Swift', 'C++', 'C#', 'R', 'Golang (Go)', 'Django', 'Flask', 'Ruby', 'PHP', 'Python', 'PHP..', 'Javascript. ...', 'Java. ...', 'CSS. ...', 'SQL. ...', 'Ruby. ...', 'HTML', 'Bootstrap', 'HTML and CSS', 'Python', 'Java', 'JavaScript', 'C++', 'C#', 'R', 'Golang (Go)', 'Django', 'Flask', 'Ruby', '\\xa0PHP', 'HTML and CSS', 'Python', 'Java', 'JavaScript', 'Swift', 'C++', 'C#', 'R', 'Golang (Go)', 'Django', 'Flask', 'Ruby', 'PHP', 'HTML and CSS', 'Python', 'Java', 'JavaScript', 'Swift', 'C++', 'C#', 'R', 'Golang (Go)', 'Django', 'Flask', 'Ruby', '\\xa0PHP', 'HTML and CSS', 'Python', 'Java', 'JavaScript', 'Swift', 'C++', 'C#', 'R', 'Golang (Go)', 'Django', 'Flask', 'Ruby', '\\xa0PHP', 'HTML and CSS', 'Python', 'Java', 'JavaScript', 'Swift', 'C++', 'C#', 'R', 'Golang (Go)', 'Flask', 'Ruby', '\\xa0PHP', 'HTML and CSS', 'Python', 'Java', 'JavaScript', 'Swift', 'C++', 'C#', 'R', 'Golang (Go)', 'Django', 'Flask', 'Ruby', '\\xa0PHP', 'HTML and CSS', 'Python', 'Java', 'JavaScript', 'Swift', 'C++', 'C#', 'R', 'Golang (Go)', 'Django', 'Flask', 'Ruby', '\\xa0PHP', 'Python', 'PHP..', 'Javascript. ...', 'Java. ...', 'CSS. ...', 'SQL. ...', 'Ruby. ...', 'HTML', 'Bootstrap', 'HTML and CSS', 'Python', 'Java', 'JavaScript', 'Swift', 'C++', 'C#', 'R', 'Golang (Go)', 'Django', 'Flask', 'Ruby', '\\xa0PHP', 'HTML and CSS', 'Python', 'Java', 'JavaScript', 'Swift', 'C++', 'C#', 'R', 'Golang (Go)', 'Django', 'Flask', 'Ruby', '\\xa0PHP', 'HTML and CSS', 'Python', 'Java', 'JavaScript', 'Swift', 'C++', 'C#', 'R', 'Golang (Go)', 'Django', 'Flask', 'Ruby', '\\xa0PHP', 'HTML and CSS', 'Python', 'Java', 'JavaScript', 'Swift', 'C++', 'C#', 'R', 'Golang (Go)', 'Django', 'Flask', 'Ruby', '\\xa0PHP', 'HTML and CSS', 'Swift', 'C++', 'C#', 'R', 'Golang (Go)', 'Django', 'Flask', 'Ruby', '\\xa0PHP', 'HTML and CSS', 'Python', 'Java', 'JavaScript', 'Swift', 'C++', 'C#', 'R', 'Golang (Go)', 'Django', 'Flask', 'Ruby', '\\xa0PHP', 'HTML and CSS', 'Python', 'Java', 'JavaScript', 'Swift', 'C++', 'C#', 'R', 'Golang (Go)', 'Django', 'Flask', 'Ruby', '\\xa0PHP', 'Python', 'PHP..', 'Javascript. ...', 'Java. ...', 'CSS. ...', 'SQL. ...', 'Ruby. ...', 'HTML', 'Bootstrap', 'HTML and CSS', 'Python', 'Java', 'JavaScript', 'Swift', 'C++', 'C#', 'R', 'Golang (Go)', 'Django', 'Flask', 'Ruby', '\\xa0PHP', 'HTML and CSS', 'Python', 'Java', 'JavaScript', 'Swift', 'C++', 'C#', 'R', 'Golang (Go)', 'Django', 'Flask', 'Ruby', '\\xa0PHP', 'HTML and CSS', 'Python', 'Java', 'JavaScript', 'Swift', 'C++', 'C#', 'R', 'Golang (Go)', 'Django', 'Flask', 'Ruby', '\\xa0PHP', 'HTML and CSS', 'Python', 'Java', 'JavaScript', 'Swift', 'C++', 'C#', 'R', 'Golang (Go)', 'Django', 'Flask', 'Ruby', '\\xa0PHP', 'HTML and CSS', 'Python', 'Java', 'JavaScript', 'Swift', 'C++', 'C#', 'R', 'Golang (Go)', 'Django', 'Flask', 'Ruby', '\\xa0PHP', 'HTML and CSS', 'Python', 'Java', 'JavaScript', 'Swift', 'C++', 'C#', 'R', 'Golang (Go)', 'Django', 'Flask', 'Ruby', '\\xa0PHP', 'HTML and CSS', 'Python', 'Java', 'JavaScript', 'Swift', 'C++', 'C#', 'R', 'Golang (Go)', 'Django', 'Flask', 'Ruby', '\\xa0PHP', 'Python', 'PHP..', 'Javascript. ...', 'Java. ...', 'CSS. ...', 'SQL. ...', 'Ruby. ...', 'HTML', 'C', 'Bootstrap', 'HTML and CSS', 'Python', 'Java', 'JavaScript', 'Swift', 'C++', 'C#', 'R', 'Golang (Go)', 'Django', 'Flask', 'Ruby', '\\xa0PHP', 'HTML and CSS', 'Python', 'Java', 'JavaScript', 'Swift', 'C++', 'C#', 'R', 'Golang (Go)', 'Django', 'Flask', 'Ruby', '\\xa0PHP', 'HTML and CSS', 'Python', 'Java', 'JavaScript', 'Swift', 'C++', 'C#', 'R', 'Golang (Go)', 'Django', 'Flask', 'Ruby', '\\xa0PHP', 'HTML and CSS', 'Python', 'Java', 'JavaScript', 'Swift', 'C++', 'C#', 'R', 'Django', 'Flask', 'Ruby', '\\xa0PHP', 'HTML and CSS', 'Python', 'Java', 'JavaScript', 'Swift', 'C++', 'C#', 'R', 'Golang (Go)', 'Django', 'Flask', 'Ruby', '\\xa0PHP', 'HTML and CSS', 'Python', 'Java', 'JavaScript', 'Swift', 'C++', 'C#', 'R', 'Golang (Go)', 'Django', 'Flask', 'Ruby', '\\xa0PHP', 'HTML and CSS', 'Python', 'Java', 'JavaScript', 'Swift', 'C++', 'C#', 'R', 'Golang (Go)', 'Django', 'Flask', 'Ruby', '\\xa0PHP', 'Python', 'PHP..', 'Javascript. ...', 'Java. ...', 'CSS. ...', 'SQL. ...', 'Ruby. ...', 'HTML', 'Bootstrap', 'HTML and CSS', 'Python', 'Java', 'JavaScript', 'Swift', 'C++', 'C#', 'R', 'Golang (Go)', 'Django', 'Flask', 'Ruby', '\\xa0PHP', 'HTML and CSS', 'Python', 'Java', 'JavaScript', 'Swift', 'C++', 'C#', 'R', 'Golang (Go)', 'Django', 'Flask', 'Ruby', '\\xa0PHP', 'HTML and CSS', 'Python', 'Java', 'JavaScript', 'Swift', 'C++', 'C#', 'R', 'Golang (Go)', 'Django', 'Flask', 'Ruby', '\\xa0PHP', 'HTML and CSS', 'Python', 'Java', 'JavaScript', 'Swift', 'C++', 'C#', 'R', 'Golang (Go)', 'Django', 'Flask', 'Ruby', '\\xa0PHP', 'HTML and CSS', 'Python', 'Java', 'JavaScript', 'Swift', 'C++', 'C#', 'R', 'Golang (Go)', 'Django', 'Flask', 'Ruby', '\\xa0PHP', 'HTML and CSS', 'Python', 'Java', 'JavaScript', 'Swift', 'C++', 'C#', 'R', 'Golang (Go)', 'Django', 'Flask', 'Ruby', '\\xa0PHP', 'HTML and CSS', 'Python', 'Java', 'JavaScript', 'Swift', 'C++', 'C#', 'R', 'Golang (Go)', 'Django', 'Flask', 'Ruby', '\\xa0PHP', 'Python', 'PHP..', 'Javascript. ...', 'Java. ...', 'SQL. ...', 'Ruby. ...', 'HTML', 'Bootstrap', 'HTML and CSS', 'Python', 'Java', 'JavaScript', 'Swift', 'C++', 'C#', 'R', 'Golang (Go)', 'Django', 'Flask', 'Ruby', '\\xa0PHP', 'HTML and CSS', 'Java', 'JavaScript', 'Swift', 'C++', 'C#', 'R', 'Golang (Go)', 'Django', 'Flask', 'Ruby', '\\xa0PHP', 'HTML and CSS', 'Python', 'Java', 'JavaScript', 'Swift', 'C++', 'C#', 'R', 'Golang (Go)', 'Django', 'Flask', 'Ruby', '\\xa0PHP', 'HTML and CSS', 'Python', 'Java', 'JavaScript', 'Swift', 'C++', 'C#', 'R', 'Golang (Go)', 'Django', 'Flask', 'Ruby', '\\xa0PHP', 'HTML and CSS', 'Python', 'Java', 'JavaScript', 'Swift', 'C++', 'C#', 'R', 'Golang (Go)', 'Django', 'Flask', 'Ruby', '\\xa0PHP', 'HTML and CSS', 'Python', 'Java', 'JavaScript', 'Swift', 'C++', 'C#', 'R', 'Golang (Go)', 'Django', 'Flask', 'Ruby', '\\xa0PHP', 'HTML and CSS', 'Python', 'Java', 'JavaScript', 'Swift', 'C++', 'C#', 'R', 'Golang (Go)', 'Django', 'Flask', 'Ruby', '\\xa0PHP', 'Python', 'PHP..', 'Javascript. ...', 'Java. ...', 'CSS. ...', 'SQL. ...', 'Ruby. ...', 'HTML', 'Bootstrap', 'HTML and CSS', 'Python', 'Java', 'JavaScript', 'Swift', 'C++', 'C#', 'R', 'Golang (Go)', 'Django', 'Flask', 'Ruby', '\\xa0PHP', 'HTML and CSS', 'Python', 'Java', 'JavaScript', 'Swift', 'C++', 'C#', 'R', 'Golang (Go)', 'Django', 'Flask', 'Ruby', '\\xa0PHP', 'HTML and CSS', 'Python', 'Java', 'JavaScript', 'Swift', 'C++', 'C#', 'R', 'Golang (Go)', 'Django', 'Flask', 'Ruby', '\\xa0PHP', 'HTML and CSS', 'Python', 'Java', 'JavaScript', 'Swift', 'C++', 'C#', 'R', 'Golang (Go)', 'Django', 'Flask', 'Ruby', '\\xa0PHP', 'HTML and CSS', 'Python', 'Java', 'JavaScript', 'Swift', 'C++', 'C#', 'R', 'Golang (Go)', 'Django', 'Flask', 'Ruby', '\\xa0PHP', 'HTML and CSS', 'Python', 'Java', 'JavaScript', 'Swift', 'C++', 'C#', 'R', 'Golang (Go)', 'Django', 'Flask', 'Ruby', '\\xa0PHP', 'HTML and CSS', 'Python', 'Java', 'JavaScript', 'Swift', 'C++', 'C#', 'R', 'Golang (Go)', 'Django', 'Flask', 'Ruby', '\\xa0PHP', 'Python', 'PHP..', 'Javascript. ...', 'Java. ...', 'CSS. ...', 'Ruby. ...', 'HTML', 'C', 'Bootstrap', 'tech', 'HTML and CSS', 'Python', 'Java', 'JavaScript', 'Swift', 'C++', 'C#', 'R', 'Golang (Go)', 'Django', 'Flask', 'Ruby', '\\xa0PHP', 'HTML and CSS', 'Python', 'Java', 'JavaScript', 'Swift', 'C++', 'C#', 'R', 'Golang (Go)', 'Django', 'Flask', 'Ruby', '\\xa0PHP', 'HTML and CSS', 'Python', 'Java', 'JavaScript', 'Swift', 'C++', 'C#', 'R', 'Golang (Go)', 'Django', 'Flask', 'Ruby', '\\xa0PHP', 'HTML and CSS', 'Python', 'Java', 'JavaScript', 'Swift', 'C++', 'C#', 'R', 'Golang (Go)', 'Django', 'Flask', 'Ruby', '\\xa0PHP', 'HTML and CSS', 'Python', 'Java', 'JavaScript', 'Swift', 'C++', 'C#', 'R', 'Golang (Go)', 'Django', 'Flask', 'Ruby', '\\xa0PHP', 'HTML and CSS', 'Python', 'Java', 'JavaScript', 'Swift', 'C++', 'C#', 'R', 'Golang (Go)', 'Django', 'Flask', 'Ruby', '\\xa0PHP', 'HTML and CSS', 'Python', 'Java', 'JavaScript', 'Swift', 'C++', 'C#', 'R', 'Golang (Go)', 'Django', 'Flask', 'Ruby', '\\xa0PHP', 'Python', 'PHP..', 'Javascript. ...', 'Java. ...', 'CSS. ...', 'SQL. ...', 'Ruby. ...', 'HTML', 'Bootstrap', 'HTML and CSS', 'Python', 'Java', 'JavaScript', 'Swift', 'C++', 'C#', 'R', 'Golang (Go)', 'Django', 'Flask', 'Ruby', 'PHP', 'HTML and CSS', 'Python', 'Java', 'JavaScript', 'Swift', 'C++', 'C#', 'R', 'Golang (Go)', 'Django', 'Flask', 'Ruby', '\\xa0PHP', 'HTML and CSS', 'Python', 'Java', 'JavaScript', 'Swift', 'C++', 'C#', 'R', 'Golang (Go)', 'Django', 'Flask', 'Ruby', '\\xa0PHP', 'HTML and CSS', 'Python', 'Java', 'JavaScript', 'Swift', 'C++', 'C#', 'R', 'Golang (Go)', 'Django', 'Flask', 'Ruby', '\\xa0PHP', 'Python', 'Java', 'JavaScript', 'Swift', 'C++', 'C#', 'R', 'Golang (Go)', 'Django', 'Flask', 'Ruby', '\\xa0PHP', 'HTML and CSS', 'Python', 'Java', 'JavaScript', 'Swift', 'C++', 'C#', 'R', 'Golang (Go)', 'Django', 'Flask', 'Ruby', '\\xa0PHP', 'HTML and CSS', 'Python', 'Java', 'JavaScript', 'Swift', 'C++', 'C#', 'R', 'Golang (Go)', 'Django', 'Flask', 'Ruby', '\\xa0PHP', 'Python', 'PHP..', 'Javascript. ...', 'Java. ...', 'CSS. ...', 'SQL. ...', 'Ruby. ...', 'HTML', 'Bootstrap', 'HTML and CSS', 'Python', 'Java', 'JavaScript', 'Swift', 'C++', 'C#', 'R', 'Golang (Go)', 'Django', 'Ruby', '\\xa0PHP', 'HTML and CSS', 'Python', 'Java', 'JavaScript', 'Swift', 'C++', 'C#', 'R', 'Golang (Go)', 'Django', 'Flask', 'Ruby', '\\xa0PHP', 'HTML and CSS', 'Python', 'Java', 'JavaScript', 'Swift', 'C++', 'C#', 'R', 'Golang (Go)', 'Django', 'Flask', 'Ruby', '\\xa0PHP', 'HTML and CSS', 'Python', 'Java', 'JavaScript', 'C++', 'C#', 'R', 'Golang (Go)', 'Django', 'Flask', 'Ruby', '\\xa0PHP', 'HTML and CSS', 'Python', 'Java', 'JavaScript', 'Swift', 'C++', 'C#', 'R', 'Golang (Go)', 'Django', 'Flask', 'Ruby', '\\xa0PHP', 'HTML and CSS', 'Java', 'JavaScript', 'Swift', 'C++', 'C#', 'R', 'Golang (Go)', 'Django', 'Flask', 'Ruby', '\\xa0PHP', 'HTML and CSS', 'Python', 'Java', 'JavaScript', 'Swift', 'C++', 'C#', 'R', 'Golang (Go)', 'Django', 'Flask', 'Ruby', '\\xa0PHP', 'Python', 'PHP..', 'Javascript. ...', 'Java. ...', 'CSS. ...', 'SQL. ...', 'Ruby. ...', 'HTML', 'Bootstrap', 'HTML and CSS', 'Python', 'Java', 'JavaScript', 'Swift', 'C++', 'C#', 'R', 'Golang (Go)', 'Django', 'Flask', 'Ruby', '\\xa0PHP', 'HTML and CSS', 'Python', 'Java', 'Swift', 'C++', 'C#', 'R', 'Golang (Go)', 'Django', 'Flask', 'Ruby', '\\xa0PHP', 'HTML and CSS', 'Python', 'Java', 'JavaScript', 'Swift', 'C++', 'C#', 'R', 'Golang (Go)', 'Django', 'Flask', 'Ruby', '\\xa0PHP', 'HTML and CSS', 'Python', 'Java', 'JavaScript', 'Swift', 'C#', 'R', 'Golang (Go)', 'Django', 'Flask', 'Ruby', '\\xa0PHP', 'HTML and CSS', 'Python', 'Java', 'JavaScript', 'Swift', 'C++', 'C#', 'R', 'Golang (Go)', 'Django', 'Flask', 'Ruby', 'PHP', 'HTML and CSS', 'Python', 'Java', 'JavaScript', 'Swift', 'C++', 'C#', 'R', 'Golang (Go)', 'Django', 'Flask', 'Ruby', 'PHP', 'HTML and CSS', 'Python', 'Java', 'JavaScript', 'Swift', 'C++', 'C#', 'R', 'Golang (Go)', 'Django', 'Flask', 'Ruby', 'PHP', 'Python', 'PHP', 'Javascript. ...', 'Java. ...', 'CSS. ...', 'SQL. ...', 'Ruby. ...', 'HTML', 'C', 'Bootstrap', 'HTML and CSS', 'Python', 'Java', 'JavaScript', 'Swift', 'C++', 'C#', 'R', 'Golang (Go)', 'Django', 'Flask', 'Ruby', 'PHP', 'HTML and CSS', 'Python', 'Java', 'JavaScript', 'Swift', 'C++', 'R', 'Golang (Go)', 'Django', 'Flask', 'Ruby', 'PHP', 'HTML and CSS', 'Python', 'Java', 'JavaScript', 'Swift', 'C++', 'C#', 'R', 'Golang (Go)', 'Django', 'Flask', 'Ruby', 'PHP', 'HTML and CSS', 'Python', 'Java', 'JavaScript', 'Swift']\n"
          ]
        }
      ]
    },
    {
      "cell_type": "code",
      "source": [
        "match=difflib.get_close_matches(tech,techList)\n",
        "print(match)"
      ],
      "metadata": {
        "colab": {
          "base_uri": "https://localhost:8080/"
        },
        "id": "WkIRy5xrWMqJ",
        "outputId": "77eb3bb3-20f2-47e8-e1c7-d2e8f058d31f"
      },
      "execution_count": 154,
      "outputs": [
        {
          "output_type": "stream",
          "name": "stdout",
          "text": [
            "['Java', 'Java', 'Java']\n"
          ]
        }
      ]
    },
    {
      "cell_type": "code",
      "source": [
        "close_match = match[0]\n",
        "print(close_match)"
      ],
      "metadata": {
        "colab": {
          "base_uri": "https://localhost:8080/"
        },
        "id": "sUTpa-X_o03t",
        "outputId": "398f4e54-c166-4c97-ecdf-2208d4575f34"
      },
      "execution_count": 155,
      "outputs": [
        {
          "output_type": "stream",
          "name": "stdout",
          "text": [
            "Java\n"
          ]
        }
      ]
    },
    {
      "cell_type": "code",
      "source": [
        "index_of_close_match = df[df.TECHNOLOGIES == close_match]['INDEX'].values[0]\n",
        "print(index_of_close_match)"
      ],
      "metadata": {
        "colab": {
          "base_uri": "https://localhost:8080/"
        },
        "id": "q71Ky4PVofob",
        "outputId": "75d09fd4-3395-47d5-9c5e-368f09e05e2c"
      },
      "execution_count": 156,
      "outputs": [
        {
          "output_type": "stream",
          "name": "stdout",
          "text": [
            "3\n"
          ]
        }
      ]
    },
    {
      "cell_type": "code",
      "source": [
        "similarity_score = list(enumerate(similarity[index_of_close_match]))\n",
        "print(similarity_score)"
      ],
      "metadata": {
        "colab": {
          "base_uri": "https://localhost:8080/"
        },
        "id": "v05DN9ogoyEu",
        "outputId": "94c69b36-e4da-4d2c-aac9-48023ebf7314"
      },
      "execution_count": 157,
      "outputs": [
        {
          "output_type": "stream",
          "name": "stdout",
          "text": [
            "[(0, 0.11495602777001605), (1, 0.1875624390732251), (2, 0.18800176435906393), (3, 1.0), (4, 0.4335917023641757), (5, 0.0), (6, 0.0), (7, 0.0), (8, 0.18254323583420062), (9, 0.18254323583420062), (10, 0.18843846989996804), (11, 0.0), (12, 0.11495602777001605), (13, 0.0), (14, 0.18800176435906393), (15, 1.0), (16, 0.0), (17, 0.4335917023641757), (18, 0.0), (19, 0.4335917023641757), (20, 0.13520768605077055), (21, 0.0), (22, 0.0), (23, 0.18843846989996804), (24, 0.0), (25, 0.0), (26, 0.0), (27, 1.0), (28, 0.18206859754765156), (29, 0.0), (30, 0.0), (31, 0.4335917023641757), (32, 0.0), (33, 0.18254323583420062), (34, 0.0), (35, 0.18843846989996804), (36, 0.0), (37, 0.11495602777001605), (38, 0.1875624390732251), (39, 0.18800176435906393), (40, 0.744044828727191), (41, 0.18206859754765156), (42, 0.0), (43, 0.4335917023641757), (44, 0.4335917023641757), (45, 0.13520768605077055), (46, 0.0), (47, 0.0), (48, 0.18843846989996804), (49, 0.18843846989996804), (50, 0.11495602777001605), (51, 0.1875624390732251), (52, 0.18800176435906393), (53, 1.0), (54, 0.0), (55, 0.4335917023641757), (56, 0.4335917023641757), (57, 0.0), (58, 0.13520768605077055), (59, 0.18254323583420062), (60, 0.18254323583420062), (61, 0.18843846989996804), (62, 0.18843846989996804), (63, 0.11495602777001605), (64, 0.0), (65, 0.0), (66, 1.0), (67, 0.18206859754765156), (68, 0.4335917023641757), (69, 0.4335917023641757), (70, 0.4335917023641757), (71, 0.13520768605077055), (72, 0.0), (73, 0.18254323583420062), (74, 0.0), (75, 0.0), (76, 0.0), (77, 0.0), (78, 0.0), (79, 1.0), (80, 0.0), (81, 0.0), (82, 0.0), (83, 0.4335917023641757), (84, 0.13520768605077055), (85, 0.0), (86, 0.18254323583420062), (87, 0.0), (88, 0.0), (89, 0.0), (90, 0.18843846989996804), (91, 1.0), (92, 0.18800176435906393), (93, 0.18800176435906393), (94, 0.12491345584097042), (95, 0.0), (96, 0.18843846989996804), (97, 0.1265622909762709), (98, 0.11495602777001605), (99, 0.1875624390732251), (100, 0.0), (101, 1.0), (102, 0.4335917023641757), (103, 0.4335917023641757), (104, 0.4335917023641757), (105, 0.13520768605077055), (106, 0.0), (107, 0.0), (108, 0.0), (109, 0.18843846989996804), (110, 0.11495602777001605), (111, 0.0), (112, 0.18800176435906393), (113, 1.0), (114, 0.0), (115, 0.4335917023641757), (116, 0.0), (117, 0.0), (118, 0.0), (119, 0.18254323583420062), (120, 0.18254323583420062), (121, 0.18843846989996804), (122, 0.18843846989996804), (123, 0.0), (124, 0.0), (125, 0.0), (126, 1.0), (127, 0.0), (128, 0.4335917023641757), (129, 0.4335917023641757), (130, 0.0), (131, 0.0), (132, 0.18254323583420062), (133, 0.18254323583420062), (134, 0.0), (135, 0.18843846989996804), (136, 0.11495602777001605), (137, 0.0), (138, 0.18800176435906393), (139, 1.0), (140, 0.18206859754765156), (141, 0.0), (142, 0.0), (143, 0.4335917023641757), (144, 0.13520768605077055), (145, 0.18254323583420062), (146, 0.18254323583420062), (147, 0.18843846989996804), (148, 0.0), (149, 0.0826949669716266), (150, 0.1875624390732251), (151, 0.0), (152, 0.6922437147982171), (153, 0.18206859754765156), (154, 0.0), (155, 0.1092490532559058), (156, 0.4335917023641757), (157, 0.13520768605077055), (158, 0.09367896970506862), (159, 0.18843846989996804), (160, 0.0), (161, 0.11495602777001605), (162, 0.0), (163, 0.0), (164, 1.0), (165, 0.0), (166, 0.0), (167, 0.4335917023641757), (168, 0.4335917023641757), (169, 0.13520768605077055), (170, 0.0), (171, 0.0), (172, 0.18843846989996804), (173, 0.0), (174, 0.11495602777001605), (175, 0.0), (176, 0.0), (177, 0.6922437147982171), (178, 0.0), (179, 0.0), (180, 0.0), (181, 0.0), (182, 0.0), (183, 0.18254323583420062), (184, 0.18254323583420062), (185, 0.0), (186, 0.0), (187, 0.0), (188, 0.0), (189, 0.6922437147982171), (190, 0.0), (191, 0.0), (192, 0.12491345584097042), (193, 0.18843846989996804), (194, 0.18843846989996804), (195, 0.0), (196, 0.0), (197, 0.0), (198, 0.18800176435906393), (199, 0.5553307341281951), (200, 0.18206859754765156), (201, 0.4335917023641757), (202, 0.0), (203, 0.0), (204, 0.0), (205, 0.0), (206, 0.0), (207, 0.18843846989996804), (208, 0.18843846989996804), (209, 0.0), (210, 0.0), (211, 0.0), (212, 0.744044828727191), (213, 0.18206859754765156), (214, 0.0), (215, 0.0), (216, 0.4335917023641757), (217, 0.13520768605077055), (218, 0.0), (219, 0.0), (220, 0.0), (221, 0.0), (222, 0.0), (223, 0.1875624390732251), (224, 0.18800176435906393), (225, 0.744044828727191), (226, 0.0), (227, 0.0), (228, 0.0), (229, 0.4335917023641757), (230, 0.13520768605077055), (231, 0.0), (232, 0.0), (233, 0.18843846989996804), (234, 0.0), (235, 0.0), (236, 0.0), (237, 0.18800176435906393), (238, 1.0), (239, 0.18206859754765156), (240, 0.4335917023641757), (241, 0.4335917023641757), (242, 0.0), (243, 0.0), (244, 0.0), (245, 0.0), (246, 0.0), (247, 0.0), (248, 0.0), (249, 0.0), (250, 0.0), (251, 0.0), (252, 0.4335917023641757), (253, 0.13520768605077055), (254, 0.0), (255, 0.0), (256, 0.0), (257, 0.18843846989996804), (258, 0.0), (259, 0.1875624390732251), (260, 0.0), (261, 0.5553307341281951), (262, 0.18206859754765156), (263, 0.0), (264, 0.4335917023641757), (265, 0.0), (266, 0.0), (267, 0.0), (268, 0.0), (269, 0.0), (270, 0.0), (271, 0.0), (272, 0.1875624390732251), (273, 0.18800176435906393), (274, 0.744044828727191), (275, 0.0), (276, 0.4335917023641757), (277, 0.0), (278, 0.0), (279, 0.0), (280, 0.18254323583420062), (281, 0.18254323583420062), (282, 0.0), (283, 0.18843846989996804), (284, 0.0), (285, 0.0), (286, 0.744044828727191), (287, 0.0), (288, 0.0), (289, 0.0), (290, 0.0), (291, 0.18843846989996804), (292, 0.1265622909762709), (293, 0.0), (294, 0.0), (295, 0.0), (296, 0.6922437147982171), (297, 0.18206859754765156), (298, 0.0), (299, 0.4335917023641757), (300, 0.0), (301, 0.0), (302, 0.0), (303, 0.18254323583420062), (304, 0.18843846989996804), (305, 0.0), (306, 0.0), (307, 0.1875624390732251), (308, 0.0), (309, 1.0), (310, 0.18206859754765156), (311, 0.4335917023641757), (312, 0.4335917023641757), (313, 0.0), (314, 0.0), (315, 0.18254323583420062), (316, 0.0), (317, 0.0), (318, 0.0), (319, 0.0), (320, 0.0), (321, 0.18800176435906393), (322, 0.744044828727191), (323, 0.18206859754765156), (324, 0.0), (325, 0.4335917023641757), (326, 0.0), (327, 0.13520768605077055), (328, 0.18254323583420062), (329, 0.18254323583420062), (330, 0.0), (331, 0.18843846989996804), (332, 0.11495602777001605), (333, 0.1875624390732251), (334, 0.0), (335, 1.0), (336, 0.18206859754765156), (337, 0.4335917023641757), (338, 0.0), (339, 0.0), (340, 0.0), (341, 0.0), (342, 0.0), (343, 0.18843846989996804), (344, 0.0), (345, 0.0), (346, 0.0), (347, 0.18800176435906393), (348, 0.5553307341281951), (349, 0.0), (350, 0.4335917023641757), (351, 0.0), (352, 0.0), (353, 0.13520768605077055), (354, 0.0), (355, 0.0), (356, 0.18843846989996804), (357, 0.0), (358, 0.11495602777001605), (359, 0.1875624390732251), (360, 0.18800176435906393), (361, 0.5553307341281951), (362, 0.18206859754765156), (363, 0.0), (364, 0.4335917023641757), (365, 0.4335917023641757), (366, 0.0), (367, 0.0), (368, 0.09367896970506862), (369, 0.18843846989996804), (370, 0.18843846989996804), (371, 0.0), (372, 0.0), (373, 0.0), (374, 1.0), (375, 0.18206859754765156), (376, 0.4335917023641757), (377, 0.0), (378, 0.0), (379, 0.0), (380, 0.0), (381, 0.10124873772199654), (382, 0.18843846989996804), (383, 0.0), (384, 0.1875624390732251), (385, 0.0), (386, 1.0), (387, 0.18800176435906393), (388, 0.0), (389, 0.12491345584097042), (390, 0.0), (391, 0.18843846989996804), (392, 0.4335917023641757), (393, 0.1265622909762709), (394, 0.11495602777001605), (395, 0.1875624390732251), (396, 0.0), (397, 0.5553307341281951), (398, 0.0), (399, 0.4335917023641757), (400, 0.0), (401, 0.4335917023641757), (402, 0.13520768605077055), (403, 0.0), (404, 0.0), (405, 0.18843846989996804), (406, 0.0), (407, 0.0), (408, 0.0), (409, 0.18800176435906393), (410, 0.5553307341281951), (411, 0.18206859754765156), (412, 0.0), (413, 0.0), (414, 0.0), (415, 0.0), (416, 0.0), (417, 0.18254323583420062), (418, 0.18843846989996804), (419, 0.0), (420, 0.11495602777001605), (421, 0.1875624390732251), (422, 0.18800176435906393), (423, 0.744044828727191), (424, 0.0), (425, 0.0), (426, 0.0), (427, 0.0), (428, 0.13520768605077055), (429, 0.18254323583420062), (430, 0.0), (431, 0.18843846989996804), (432, 0.0), (433, 0.0), (434, 0.1875624390732251), (435, 0.0), (436, 0.744044828727191), (437, 0.18206859754765156), (438, 0.4335917023641757), (439, 0.4335917023641757), (440, 0.4335917023641757), (441, 0.18254323583420062), (442, 0.0), (443, 0.18843846989996804), (444, 0.18843846989996804), (445, 0.07915286515470644), (446, 0.0), (447, 0.18800176435906393), (448, 1.0), (449, 0.18206859754765156), (450, 0.4335917023641757), (451, 0.0), (452, 0.0), (453, 0.13520768605077055), (454, 0.18254323583420062), (455, 0.18254323583420062), (456, 0.0), (457, 0.18843846989996804), (458, 0.11495602777001605), (459, 0.1875624390732251), (460, 0.18800176435906393), (461, 1.0), (462, 0.09361463568234023), (463, 0.4335917023641757), (464, 0.4335917023641757), (465, 0.4335917023641757), (466, 0.13520768605077055), (467, 0.18254323583420062), (468, 0.18254323583420062), (469, 0.0), (470, 0.18843846989996804), (471, 0.0), (472, 0.1875624390732251), (473, 0.0), (474, 1.0), (475, 0.18206859754765156), (476, 0.0), (477, 0.0), (478, 0.0), (479, 0.0), (480, 0.0), (481, 0.18254323583420062), (482, 0.18843846989996804), (483, 0.0), (484, 0.0), (485, 0.18843846989996804), (486, 1.0), (487, 0.0), (488, 0.18800176435906393), (489, 0.0), (490, 0.18843846989996804), (491, 0.18843846989996804), (492, 0.1265622909762709), (493, 0.0), (494, 0.0), (495, 0.0), (496, 0.6922437147982171), (497, 0.0), (498, 0.4335917023641757), (499, 0.0), (500, 0.4335917023641757), (501, 0.13520768605077055), (502, 0.18254323583420062), (503, 0.0), (504, 0.0), (505, 0.18843846989996804), (506, 0.0), (507, 0.1875624390732251), (508, 0.0), (509, 1.0), (510, 0.0), (511, 0.0), (512, 0.0), (513, 0.0), (514, 0.0), (515, 0.0), (516, 0.18254323583420062), (517, 0.0), (518, 0.18843846989996804), (519, 0.11495602777001605), (520, 0.0), (521, 0.18800176435906393), (522, 1.0), (523, 0.0), (524, 0.0), (525, 0.0), (526, 0.4335917023641757), (527, 0.0), (528, 0.0), (529, 0.18254323583420062), (530, 0.18843846989996804), (531, 0.18843846989996804), (532, 0.11495602777001605), (533, 0.1875624390732251), (534, 0.0), (535, 0.744044828727191), (536, 0.0), (537, 0.4335917023641757), (538, 0.11715557962939702), (539, 0.0), (540, 0.0), (541, 0.18254323583420062), (542, 0.0), (543, 0.0), (544, 0.18843846989996804), (545, 0.0), (546, 0.0), (547, 0.18800176435906393), (548, 0.744044828727191), (549, 0.0), (550, 0.4335917023641757), (551, 0.4335917023641757), (552, 0.4335917023641757), (553, 0.13520768605077055), (554, 0.18254323583420062), (555, 0.18254323583420062), (556, 0.0), (557, 0.0), (558, 0.11495602777001605), (559, 0.1875624390732251), (560, 0.0), (561, 0.5553307341281951), (562, 0.18206859754765156), (563, 0.4335917023641757), (564, 0.4335917023641757), (565, 0.4335917023641757), (566, 0.13520768605077055), (567, 0.0), (568, 0.18254323583420062), (569, 0.0), (570, 0.0), (571, 0.0), (572, 0.0), (573, 0.0), (574, 0.5553307341281951), (575, 0.0), (576, 0.0), (577, 0.0), (578, 0.4335917023641757), (579, 0.0), (580, 0.18254323583420062), (581, 0.0), (582, 0.18843846989996804), (583, 0.0), (584, 0.1875624390732251), (585, 0.18843846989996804), (586, 0.6922437147982171), (587, 0.18800176435906393), (588, 0.12491345584097042), (589, 0.18843846989996804), (590, 0.0), (591, 0.1265622909762709), (592, 0.11495602777001605), (593, 0.1875624390732251), (594, 0.18800176435906393), (595, 1.0), (596, 0.0), (597, 0.0), (598, 0.0), (599, 0.4335917023641757), (600, 0.13520768605077055), (601, 0.18254323583420062), (602, 0.18254323583420062), (603, 0.0), (604, 0.18843846989996804), (605, 0.0), (606, 0.18800176435906393), (607, 1.0), (608, 0.0), (609, 0.0), (610, 0.0), (611, 0.4335917023641757), (612, 0.0), (613, 0.18254323583420062), (614, 0.18254323583420062), (615, 0.18843846989996804), (616, 0.0), (617, 0.11495602777001605), (618, 0.1875624390732251), (619, 0.18800176435906393), (620, 0.744044828727191), (621, 0.0), (622, 0.0), (623, 0.4335917023641757), (624, 0.0), (625, 0.13520768605077055), (626, 0.0), (627, 0.0), (628, 0.0), (629, 0.10222181598479878), (630, 0.0), (631, 0.1875624390732251), (632, 0.0), (633, 1.0), (634, 0.18206859754765156), (635, 0.0), (636, 0.4335917023641757), (637, 0.4335917023641757), (638, 0.13520768605077055), (639, 0.18254323583420062), (640, 0.18254323583420062), (641, 0.18843846989996804), (642, 0.18843846989996804), (643, 0.11495602777001605), (644, 0.1875624390732251), (645, 0.0), (646, 1.0), (647, 0.18206859754765156), (648, 0.0), (649, 0.0), (650, 0.0), (651, 0.13520768605077055), (652, 0.0), (653, 0.0), (654, 0.0), (655, 0.0), (656, 0.11495602777001605), (657, 0.1875624390732251), (658, 0.18800176435906393), (659, 1.0), (660, 0.18206859754765156), (661, 0.0), (662, 0.0), (663, 0.0), (664, 0.0), (665, 0.18254323583420062), (666, 0.18254323583420062), (667, 0.0), (668, 0.18843846989996804), (669, 0.0), (670, 0.0), (671, 0.0), (672, 0.6922437147982171), (673, 0.0), (674, 0.0), (675, 0.4335917023641757), (676, 0.4335917023641757), (677, 0.13520768605077055), (678, 0.18254323583420062), (679, 0.18254323583420062), (680, 0.0), (681, 0.0), (682, 0.09672288417842673), (683, 0.0), (684, 1.0), (685, 0.18800176435906393), (686, 0.0), (687, 0.12491345584097042), (688, 0.0), (689, 0.18843846989996804), (690, 0.0), (691, 0.0), (692, 0.1875624390732251), (693, 0.18800176435906393), (694, 0.744044828727191), (695, 0.18206859754765156), (696, 0.4335917023641757), (697, 0.0), (698, 0.0), (699, 0.13520768605077055), (700, 0.0), (701, 0.0), (702, 0.18843846989996804), (703, 0.18843846989996804), (704, 0.11495602777001605), (705, 0.1875624390732251), (706, 0.18800176435906393), (707, 0.744044828727191), (708, 0.0), (709, 0.4335917023641757), (710, 0.4335917023641757), (711, 0.0), (712, 0.13520768605077055), (713, 0.18254323583420062), (714, 0.18254323583420062), (715, 0.0), (716, 0.18843846989996804), (717, 0.0), (718, 0.1875624390732251), (719, 0.0), (720, 1.0), (721, 0.18206859754765156), (722, 0.4335917023641757), (723, 0.0), (724, 0.0), (725, 0.13520768605077055), (726, 0.0), (727, 0.18254323583420062), (728, 0.18843846989996804), (729, 0.0), (730, 0.0), (731, 0.1875624390732251), (732, 0.0), (733, 0.744044828727191), (734, 0.0), (735, 0.4335917023641757), (736, 0.4335917023641757), (737, 0.0), (738, 0.13520768605077055), (739, 0.0), (740, 0.0), (741, 0.0), (742, 0.18843846989996804), (743, 0.11495602777001605), (744, 0.0), (745, 0.0), (746, 0.744044828727191), (747, 0.18206859754765156), (748, 0.4335917023641757), (749, 0.4335917023641757), (750, 0.4335917023641757), (751, 0.13520768605077055), (752, 0.18254323583420062), (753, 0.18254323583420062), (754, 0.0), (755, 0.18843846989996804), (756, 0.11495602777001605), (757, 0.0), (758, 0.0), (759, 1.0), (760, 0.0), (761, 0.0), (762, 0.4335917023641757), (763, 0.0), (764, 0.13520768605077055), (765, 0.0), (766, 0.18254323583420062), (767, 0.0), (768, 0.18843846989996804), (769, 0.11495602777001605), (770, 0.1875624390732251), (771, 0.0), (772, 1.0), (773, 0.0), (774, 0.4335917023641757), (775, 0.4335917023641757), (776, 0.4335917023641757), (777, 0.0), (778, 0.0), (779, 0.0), (780, 0.0), (781, 0.18843846989996804), (782, 0.1875624390732251), (783, 0.18843846989996804), (784, 0.5553307341281951), (785, 0.0), (786, 0.0), (787, 0.18843846989996804), (788, 0.0), (789, 0.4335917023641757), (790, 0.1265622909762709), (791, 0.0), (792, 0.0), (793, 0.0), (794, 0.18800176435906393), (795, 1.0), (796, 0.0), (797, 0.4335917023641757), (798, 0.0), (799, 0.0), (800, 0.0), (801, 0.18254323583420062), (802, 0.18254323583420062), (803, 0.0), (804, 0.18843846989996804), (805, 0.11495602777001605), (806, 0.1875624390732251), (807, 0.0), (808, 1.0), (809, 0.18206859754765156), (810, 0.0), (811, 0.0), (812, 0.0), (813, 0.0), (814, 0.0), (815, 0.0), (816, 0.0), (817, 0.18843846989996804), (818, 0.0), (819, 0.0), (820, 0.18800176435906393), (821, 0.744044828727191), (822, 0.18206859754765156), (823, 0.4335917023641757), (824, 0.0), (825, 0.0), (826, 0.13520768605077055), (827, 0.0), (828, 0.0), (829, 0.18843846989996804), (830, 0.18843846989996804), (831, 0.0), (832, 0.0), (833, 0.0), (834, 1.0), (835, 0.18206859754765156), (836, 0.4335917023641757), (837, 0.0), (838, 0.0), (839, 0.13520768605077055), (840, 0.18254323583420062), (841, 0.18254323583420062), (842, 0.18843846989996804), (843, 0.0), (844, 0.0), (845, 0.1875624390732251), (846, 0.0), (847, 1.0), (848, 0.18206859754765156), (849, 0.0), (850, 0.0), (851, 0.4335917023641757), (852, 0.13520768605077055), (853, 0.0), (854, 0.0), (855, 0.18843846989996804), (856, 0.0), (857, 0.11495602777001605), (858, 0.1875624390732251), (859, 0.0), (860, 1.0), (861, 0.18206859754765156), (862, 0.0), (863, 0.0), (864, 0.0), (865, 0.13520768605077055), (866, 0.0), (867, 0.18254323583420062), (868, 0.0), (869, 0.18843846989996804), (870, 0.11495602777001605), (871, 0.1875624390732251), (872, 0.0), (873, 0.5553307341281951), (874, 0.0), (875, 0.4335917023641757), (876, 0.0), (877, 0.4335917023641757), (878, 0.13520768605077055), (879, 0.0), (880, 0.0), (881, 0.18843846989996804), (882, 0.0), (883, 0.0), (884, 0.0), (885, 1.0), (886, 0.18800176435906393), (887, 0.18800176435906393), (888, 0.12491345584097042), (889, 0.0), (890, 0.0), (891, 0.1265622909762709), (892, 0.11495602777001605), (893, 0.1875624390732251), (894, 0.18800176435906393), (895, 1.0), (896, 0.0), (897, 0.0), (898, 0.0), (899, 0.0), (900, 0.0), (901, 0.0), (902, 0.18254323583420062), (903, 0.18843846989996804), (904, 0.0), (905, 0.0), (906, 0.0), (907, 0.0), (908, 1.0), (909, 0.18206859754765156), (910, 0.0), (911, 0.0), (912, 0.4335917023641757), (913, 0.0), (914, 0.0), (915, 0.0), (916, 0.0), (917, 0.0), (918, 0.0), (919, 0.1875624390732251), (920, 0.0), (921, 0.744044828727191), (922, 0.0), (923, 0.0), (924, 0.4335917023641757), (925, 0.0), (926, 0.0), (927, 0.18254323583420062), (928, 0.18254323583420062), (929, 0.18843846989996804), (930, 0.18843846989996804), (931, 0.0), (932, 0.1875624390732251), (933, 0.0), (934, 1.0), (935, 0.0), (936, 0.0), (937, 0.0), (938, 0.0), (939, 0.13520768605077055), (940, 0.18254323583420062), (941, 0.18254323583420062), (942, 0.18843846989996804), (943, 0.0), (944, 0.1875624390732251), (945, 0.0), (946, 1.0), (947, 0.18206859754765156), (948, 0.0), (949, 0.0), (950, 0.4335917023641757), (951, 0.0), (952, 0.0), (953, 0.18254323583420062), (954, 0.18843846989996804), (955, 0.18843846989996804), (956, 0.11495602777001605), (957, 0.1875624390732251), (958, 0.0), (959, 0.744044828727191), (960, 0.0), (961, 0.4335917023641757), (962, 0.1092490532559058), (963, 0.4335917023641757), (964, 0.0), (965, 0.18254323583420062), (966, 0.18254323583420062), (967, 0.0), (968, 0.18843846989996804), (969, 0.11495602777001605), (970, 0.1875624390732251), (971, 0.18800176435906393), (972, 1.0), (973, 0.18206859754765156), (974, 0.4335917023641757), (975, 0.4335917023641757), (976, 0.0), (977, 0.0), (978, 0.0), (979, 0.18254323583420062), (980, 0.18843846989996804), (981, 0.0), (982, 0.0), (983, 0.0), (984, 1.0), (985, 0.0), (986, 0.18800176435906393), (987, 0.12491345584097042), (988, 0.18843846989996804), (989, 0.0), (990, 0.1265622909762709), (991, 0.0), (992, 0.0), (993, 0.0), (994, 1.0), (995, 0.0), (996, 0.0), (997, 0.4335917023641757), (998, 0.4335917023641757), (999, 0.13520768605077055), (1000, 0.0), (1001, 0.18843846989996804), (1002, 0.0), (1003, 0.0), (1004, 0.1875624390732251), (1005, 0.0), (1006, 0.5553307341281951), (1007, 0.0), (1008, 0.0), (1009, 0.4335917023641757), (1010, 0.0), (1011, 0.13520768605077055), (1012, 0.18254323583420062), (1013, 0.0), (1014, 0.18843846989996804), (1015, 0.18843846989996804), (1016, 0.11495602777001605), (1017, 0.0), (1018, 0.0), (1019, 1.0), (1020, 0.18206859754765156), (1021, 0.0), (1022, 0.4335917023641757), (1023, 0.0), (1024, 0.13520768605077055), (1025, 0.18254323583420062), (1026, 0.0), (1027, 0.18843846989996804), (1028, 0.18843846989996804), (1029, 0.0), (1030, 0.0), (1031, 0.0), (1032, 1.0), (1033, 0.0), (1034, 0.0), (1035, 0.0), (1036, 0.0), (1037, 0.18254323583420062), (1038, 0.0), (1039, 0.0), (1040, 0.0), (1041, 0.11495602777001605), (1042, 0.09672288417842673), (1043, 0.0), (1044, 1.0), (1045, 0.0), (1046, 0.4335917023641757), (1047, 0.4335917023641757), (1048, 0.4335917023641757), (1049, 0.13520768605077055), (1050, 0.0), (1051, 0.0), (1052, 0.18843846989996804), (1053, 0.0), (1054, 0.0), (1055, 0.0), (1056, 0.744044828727191), (1057, 0.18206859754765156), (1058, 0.0), (1059, 0.0), (1060, 0.0), (1061, 0.13520768605077055), (1062, 0.0), (1063, 0.18254323583420062), (1064, 0.0), (1065, 0.18843846989996804), (1066, 0.11495602777001605), (1067, 0.0), (1068, 0.18800176435906393), (1069, 1.0), (1070, 0.18206859754765156), (1071, 0.4335917023641757), (1072, 0.4335917023641757), (1073, 0.0), (1074, 0.13520768605077055), (1075, 0.0), (1076, 0.18254323583420062), (1077, 0.18843846989996804), (1078, 0.18843846989996804), (1079, 0.1875624390732251), (1080, 0.18843846989996804), (1081, 0.744044828727191), (1082, 0.0), (1083, 0.18800176435906393), (1084, 0.12491345584097042), (1085, 0.0), (1086, 0.0), (1087, 0.0), (1088, 0.0), (1089, 0.0), (1090, 0.18800176435906393), (1091, 0.744044828727191), (1092, 0.0), (1093, 0.0), (1094, 0.4335917023641757), (1095, 0.4335917023641757), (1096, 0.0), (1097, 0.0), (1098, 0.0), (1099, 0.0), (1100, 0.0), (1101, 0.11495602777001605), (1102, 0.0), (1103, 0.0), (1104, 0.18206859754765156), (1105, 0.0), (1106, 0.0), (1107, 0.4335917023641757), (1108, 0.08665666347571487), (1109, 0.18254323583420062), (1110, 0.0), (1111, 0.0), (1112, 0.0), (1113, 0.11495602777001605), (1114, 0.1875624390732251), (1115, 0.18800176435906393), (1116, 0.744044828727191), (1117, 0.18206859754765156), (1118, 0.0), (1119, 0.0), (1120, 0.4335917023641757), (1121, 0.13520768605077055), (1122, 0.18254323583420062), (1123, 0.0), (1124, 0.18843846989996804), (1125, 0.0), (1126, 0.0), (1127, 0.1875624390732251), (1128, 0.18800176435906393), (1129, 0.744044828727191), (1130, 0.0), (1131, 0.0), (1132, 0.0), (1133, 0.13520768605077055), (1134, 0.0), (1135, 0.18254323583420062), (1136, 0.18843846989996804), (1137, 0.0), (1138, 0.0), (1139, 0.0), (1140, 0.18800176435906393), (1141, 1.0), (1142, 0.18206859754765156), (1143, 0.0), (1144, 0.4335917023641757), (1145, 0.4335917023641757), (1146, 0.0), (1147, 0.18254323583420062), (1148, 0.0), (1149, 0.18843846989996804), (1150, 0.0), (1151, 0.11495602777001605), (1152, 0.0), (1153, 0.18800176435906393), (1154, 1.0), (1155, 0.18206859754765156), (1156, 0.4335917023641757), (1157, 0.4335917023641757), (1158, 0.4335917023641757), (1159, 0.13520768605077055), (1160, 0.18254323583420062), (1161, 0.10124873772199654), (1162, 0.0), (1163, 0.0), (1164, 0.0), (1165, 0.0), (1166, 0.0), (1167, 0.5553307341281951), (1168, 0.18206859754765156), (1169, 0.4335917023641757), (1170, 0.0), (1171, 0.0), (1172, 0.13520768605077055), (1173, 0.0), (1174, 0.18254323583420062), (1175, 0.0), (1176, 0.0), (1177, 0.0), (1178, 0.18843846989996804), (1179, 0.6922437147982171), (1180, 0.0), (1181, 0.18800176435906393), (1182, 0.0), (1183, 0.18843846989996804), (1184, 0.0), (1185, 0.4335917023641757), (1186, 0.1265622909762709), (1187, 0.11495602777001605), (1188, 0.0), (1189, 0.0), (1190, 1.0), (1191, 0.0), (1192, 0.0), (1193, 0.0), (1194, 0.0), (1195, 0.13520768605077055), (1196, 0.18254323583420062), (1197, 0.18254323583420062), (1198, 0.18843846989996804), (1199, 0.0), (1200, 0.11495602777001605), (1201, 0.0), (1202, 0.0), (1203, 0.744044828727191), (1204, 0.18206859754765156), (1205, 0.4335917023641757), (1206, 0.4335917023641757), (1207, 0.13520768605077055), (1208, 0.18254323583420062), (1209, 0.0), (1210, 0.0), (1211, 0.0), (1212, 0.0), (1213, 0.1875624390732251), (1214, 0.0), (1215, 1.0), (1216, 0.0), (1217, 0.0), (1218, 0.4335917023641757), (1219, 0.1092490532559058), (1220, 0.13520768605077055), (1221, 0.18254323583420062), (1222, 0.18254323583420062), (1223, 0.18843846989996804), (1224, 0.0), (1225, 0.0), (1226, 0.0), (1227, 0.0), (1228, 1.0), (1229, 0.0)]\n"
          ]
        }
      ]
    },
    {
      "cell_type": "code",
      "source": [
        "len(similarity_score)"
      ],
      "metadata": {
        "colab": {
          "base_uri": "https://localhost:8080/"
        },
        "id": "lcdpd3sOuq2y",
        "outputId": "3b59d2b5-88a4-42cd-84aa-c800fad9a527"
      },
      "execution_count": 158,
      "outputs": [
        {
          "output_type": "execute_result",
          "data": {
            "text/plain": [
              "1230"
            ]
          },
          "metadata": {},
          "execution_count": 158
        }
      ]
    },
    {
      "cell_type": "code",
      "source": [
        "\n",
        "sorted_output = sorted(similarity_score, key = lambda x:x[1], reverse = True) \n",
        "print(sorted_output)"
      ],
      "metadata": {
        "colab": {
          "base_uri": "https://localhost:8080/"
        },
        "id": "mlCRzl8Putqy",
        "outputId": "799951a3-2a40-4c5f-b9c9-2489b4d2aff5"
      },
      "execution_count": 161,
      "outputs": [
        {
          "output_type": "stream",
          "name": "stdout",
          "text": [
            "[(3, 1.0), (15, 1.0), (27, 1.0), (53, 1.0), (66, 1.0), (79, 1.0), (91, 1.0), (101, 1.0), (113, 1.0), (126, 1.0), (139, 1.0), (164, 1.0), (238, 1.0), (309, 1.0), (335, 1.0), (374, 1.0), (386, 1.0), (448, 1.0), (461, 1.0), (474, 1.0), (486, 1.0), (509, 1.0), (522, 1.0), (595, 1.0), (607, 1.0), (633, 1.0), (646, 1.0), (659, 1.0), (684, 1.0), (720, 1.0), (759, 1.0), (772, 1.0), (795, 1.0), (808, 1.0), (834, 1.0), (847, 1.0), (860, 1.0), (885, 1.0), (895, 1.0), (908, 1.0), (934, 1.0), (946, 1.0), (972, 1.0), (984, 1.0), (994, 1.0), (1019, 1.0), (1032, 1.0), (1044, 1.0), (1069, 1.0), (1141, 1.0), (1154, 1.0), (1190, 1.0), (1215, 1.0), (1228, 1.0), (40, 0.744044828727191), (212, 0.744044828727191), (225, 0.744044828727191), (274, 0.744044828727191), (286, 0.744044828727191), (322, 0.744044828727191), (423, 0.744044828727191), (436, 0.744044828727191), (535, 0.744044828727191), (548, 0.744044828727191), (620, 0.744044828727191), (694, 0.744044828727191), (707, 0.744044828727191), (733, 0.744044828727191), (746, 0.744044828727191), (821, 0.744044828727191), (921, 0.744044828727191), (959, 0.744044828727191), (1056, 0.744044828727191), (1081, 0.744044828727191), (1091, 0.744044828727191), (1116, 0.744044828727191), (1129, 0.744044828727191), (1203, 0.744044828727191), (152, 0.6922437147982171), (177, 0.6922437147982171), (189, 0.6922437147982171), (296, 0.6922437147982171), (496, 0.6922437147982171), (586, 0.6922437147982171), (672, 0.6922437147982171), (1179, 0.6922437147982171), (199, 0.5553307341281951), (261, 0.5553307341281951), (348, 0.5553307341281951), (361, 0.5553307341281951), (397, 0.5553307341281951), (410, 0.5553307341281951), (561, 0.5553307341281951), (574, 0.5553307341281951), (784, 0.5553307341281951), (873, 0.5553307341281951), (1006, 0.5553307341281951), (1167, 0.5553307341281951), (4, 0.4335917023641757), (17, 0.4335917023641757), (19, 0.4335917023641757), (31, 0.4335917023641757), (43, 0.4335917023641757), (44, 0.4335917023641757), (55, 0.4335917023641757), (56, 0.4335917023641757), (68, 0.4335917023641757), (69, 0.4335917023641757), (70, 0.4335917023641757), (83, 0.4335917023641757), (102, 0.4335917023641757), (103, 0.4335917023641757), (104, 0.4335917023641757), (115, 0.4335917023641757), (128, 0.4335917023641757), (129, 0.4335917023641757), (143, 0.4335917023641757), (156, 0.4335917023641757), (167, 0.4335917023641757), (168, 0.4335917023641757), (201, 0.4335917023641757), (216, 0.4335917023641757), (229, 0.4335917023641757), (240, 0.4335917023641757), (241, 0.4335917023641757), (252, 0.4335917023641757), (264, 0.4335917023641757), (276, 0.4335917023641757), (299, 0.4335917023641757), (311, 0.4335917023641757), (312, 0.4335917023641757), (325, 0.4335917023641757), (337, 0.4335917023641757), (350, 0.4335917023641757), (364, 0.4335917023641757), (365, 0.4335917023641757), (376, 0.4335917023641757), (392, 0.4335917023641757), (399, 0.4335917023641757), (401, 0.4335917023641757), (438, 0.4335917023641757), (439, 0.4335917023641757), (440, 0.4335917023641757), (450, 0.4335917023641757), (463, 0.4335917023641757), (464, 0.4335917023641757), (465, 0.4335917023641757), (498, 0.4335917023641757), (500, 0.4335917023641757), (526, 0.4335917023641757), (537, 0.4335917023641757), (550, 0.4335917023641757), (551, 0.4335917023641757), (552, 0.4335917023641757), (563, 0.4335917023641757), (564, 0.4335917023641757), (565, 0.4335917023641757), (578, 0.4335917023641757), (599, 0.4335917023641757), (611, 0.4335917023641757), (623, 0.4335917023641757), (636, 0.4335917023641757), (637, 0.4335917023641757), (675, 0.4335917023641757), (676, 0.4335917023641757), (696, 0.4335917023641757), (709, 0.4335917023641757), (710, 0.4335917023641757), (722, 0.4335917023641757), (735, 0.4335917023641757), (736, 0.4335917023641757), (748, 0.4335917023641757), (749, 0.4335917023641757), (750, 0.4335917023641757), (762, 0.4335917023641757), (774, 0.4335917023641757), (775, 0.4335917023641757), (776, 0.4335917023641757), (789, 0.4335917023641757), (797, 0.4335917023641757), (823, 0.4335917023641757), (836, 0.4335917023641757), (851, 0.4335917023641757), (875, 0.4335917023641757), (877, 0.4335917023641757), (912, 0.4335917023641757), (924, 0.4335917023641757), (950, 0.4335917023641757), (961, 0.4335917023641757), (963, 0.4335917023641757), (974, 0.4335917023641757), (975, 0.4335917023641757), (997, 0.4335917023641757), (998, 0.4335917023641757), (1009, 0.4335917023641757), (1022, 0.4335917023641757), (1046, 0.4335917023641757), (1047, 0.4335917023641757), (1048, 0.4335917023641757), (1071, 0.4335917023641757), (1072, 0.4335917023641757), (1094, 0.4335917023641757), (1095, 0.4335917023641757), (1107, 0.4335917023641757), (1120, 0.4335917023641757), (1144, 0.4335917023641757), (1145, 0.4335917023641757), (1156, 0.4335917023641757), (1157, 0.4335917023641757), (1158, 0.4335917023641757), (1169, 0.4335917023641757), (1185, 0.4335917023641757), (1205, 0.4335917023641757), (1206, 0.4335917023641757), (1218, 0.4335917023641757), (10, 0.18843846989996804), (23, 0.18843846989996804), (35, 0.18843846989996804), (48, 0.18843846989996804), (49, 0.18843846989996804), (61, 0.18843846989996804), (62, 0.18843846989996804), (90, 0.18843846989996804), (96, 0.18843846989996804), (109, 0.18843846989996804), (121, 0.18843846989996804), (122, 0.18843846989996804), (135, 0.18843846989996804), (147, 0.18843846989996804), (159, 0.18843846989996804), (172, 0.18843846989996804), (193, 0.18843846989996804), (194, 0.18843846989996804), (207, 0.18843846989996804), (208, 0.18843846989996804), (233, 0.18843846989996804), (257, 0.18843846989996804), (283, 0.18843846989996804), (291, 0.18843846989996804), (304, 0.18843846989996804), (331, 0.18843846989996804), (343, 0.18843846989996804), (356, 0.18843846989996804), (369, 0.18843846989996804), (370, 0.18843846989996804), (382, 0.18843846989996804), (391, 0.18843846989996804), (405, 0.18843846989996804), (418, 0.18843846989996804), (431, 0.18843846989996804), (443, 0.18843846989996804), (444, 0.18843846989996804), (457, 0.18843846989996804), (470, 0.18843846989996804), (482, 0.18843846989996804), (485, 0.18843846989996804), (490, 0.18843846989996804), (491, 0.18843846989996804), (505, 0.18843846989996804), (518, 0.18843846989996804), (530, 0.18843846989996804), (531, 0.18843846989996804), (544, 0.18843846989996804), (582, 0.18843846989996804), (585, 0.18843846989996804), (589, 0.18843846989996804), (604, 0.18843846989996804), (615, 0.18843846989996804), (641, 0.18843846989996804), (642, 0.18843846989996804), (668, 0.18843846989996804), (689, 0.18843846989996804), (702, 0.18843846989996804), (703, 0.18843846989996804), (716, 0.18843846989996804), (728, 0.18843846989996804), (742, 0.18843846989996804), (755, 0.18843846989996804), (768, 0.18843846989996804), (781, 0.18843846989996804), (783, 0.18843846989996804), (787, 0.18843846989996804), (804, 0.18843846989996804), (817, 0.18843846989996804), (829, 0.18843846989996804), (830, 0.18843846989996804), (842, 0.18843846989996804), (855, 0.18843846989996804), (869, 0.18843846989996804), (881, 0.18843846989996804), (903, 0.18843846989996804), (929, 0.18843846989996804), (930, 0.18843846989996804), (942, 0.18843846989996804), (954, 0.18843846989996804), (955, 0.18843846989996804), (968, 0.18843846989996804), (980, 0.18843846989996804), (988, 0.18843846989996804), (1001, 0.18843846989996804), (1014, 0.18843846989996804), (1015, 0.18843846989996804), (1027, 0.18843846989996804), (1028, 0.18843846989996804), (1052, 0.18843846989996804), (1065, 0.18843846989996804), (1077, 0.18843846989996804), (1078, 0.18843846989996804), (1080, 0.18843846989996804), (1124, 0.18843846989996804), (1136, 0.18843846989996804), (1149, 0.18843846989996804), (1178, 0.18843846989996804), (1183, 0.18843846989996804), (1198, 0.18843846989996804), (1223, 0.18843846989996804), (2, 0.18800176435906393), (14, 0.18800176435906393), (39, 0.18800176435906393), (52, 0.18800176435906393), (92, 0.18800176435906393), (93, 0.18800176435906393), (112, 0.18800176435906393), (138, 0.18800176435906393), (198, 0.18800176435906393), (224, 0.18800176435906393), (237, 0.18800176435906393), (273, 0.18800176435906393), (321, 0.18800176435906393), (347, 0.18800176435906393), (360, 0.18800176435906393), (387, 0.18800176435906393), (409, 0.18800176435906393), (422, 0.18800176435906393), (447, 0.18800176435906393), (460, 0.18800176435906393), (488, 0.18800176435906393), (521, 0.18800176435906393), (547, 0.18800176435906393), (587, 0.18800176435906393), (594, 0.18800176435906393), (606, 0.18800176435906393), (619, 0.18800176435906393), (658, 0.18800176435906393), (685, 0.18800176435906393), (693, 0.18800176435906393), (706, 0.18800176435906393), (794, 0.18800176435906393), (820, 0.18800176435906393), (886, 0.18800176435906393), (887, 0.18800176435906393), (894, 0.18800176435906393), (971, 0.18800176435906393), (986, 0.18800176435906393), (1068, 0.18800176435906393), (1083, 0.18800176435906393), (1090, 0.18800176435906393), (1115, 0.18800176435906393), (1128, 0.18800176435906393), (1140, 0.18800176435906393), (1153, 0.18800176435906393), (1181, 0.18800176435906393), (1, 0.1875624390732251), (38, 0.1875624390732251), (51, 0.1875624390732251), (99, 0.1875624390732251), (150, 0.1875624390732251), (223, 0.1875624390732251), (259, 0.1875624390732251), (272, 0.1875624390732251), (307, 0.1875624390732251), (333, 0.1875624390732251), (359, 0.1875624390732251), (384, 0.1875624390732251), (395, 0.1875624390732251), (421, 0.1875624390732251), (434, 0.1875624390732251), (459, 0.1875624390732251), (472, 0.1875624390732251), (507, 0.1875624390732251), (533, 0.1875624390732251), (559, 0.1875624390732251), (584, 0.1875624390732251), (593, 0.1875624390732251), (618, 0.1875624390732251), (631, 0.1875624390732251), (644, 0.1875624390732251), (657, 0.1875624390732251), (692, 0.1875624390732251), (705, 0.1875624390732251), (718, 0.1875624390732251), (731, 0.1875624390732251), (770, 0.1875624390732251), (782, 0.1875624390732251), (806, 0.1875624390732251), (845, 0.1875624390732251), (858, 0.1875624390732251), (871, 0.1875624390732251), (893, 0.1875624390732251), (919, 0.1875624390732251), (932, 0.1875624390732251), (944, 0.1875624390732251), (957, 0.1875624390732251), (970, 0.1875624390732251), (1004, 0.1875624390732251), (1079, 0.1875624390732251), (1114, 0.1875624390732251), (1127, 0.1875624390732251), (1213, 0.1875624390732251), (8, 0.18254323583420062), (9, 0.18254323583420062), (33, 0.18254323583420062), (59, 0.18254323583420062), (60, 0.18254323583420062), (73, 0.18254323583420062), (86, 0.18254323583420062), (119, 0.18254323583420062), (120, 0.18254323583420062), (132, 0.18254323583420062), (133, 0.18254323583420062), (145, 0.18254323583420062), (146, 0.18254323583420062), (183, 0.18254323583420062), (184, 0.18254323583420062), (280, 0.18254323583420062), (281, 0.18254323583420062), (303, 0.18254323583420062), (315, 0.18254323583420062), (328, 0.18254323583420062), (329, 0.18254323583420062), (417, 0.18254323583420062), (429, 0.18254323583420062), (441, 0.18254323583420062), (454, 0.18254323583420062), (455, 0.18254323583420062), (467, 0.18254323583420062), (468, 0.18254323583420062), (481, 0.18254323583420062), (502, 0.18254323583420062), (516, 0.18254323583420062), (529, 0.18254323583420062), (541, 0.18254323583420062), (554, 0.18254323583420062), (555, 0.18254323583420062), (568, 0.18254323583420062), (580, 0.18254323583420062), (601, 0.18254323583420062), (602, 0.18254323583420062), (613, 0.18254323583420062), (614, 0.18254323583420062), (639, 0.18254323583420062), (640, 0.18254323583420062), (665, 0.18254323583420062), (666, 0.18254323583420062), (678, 0.18254323583420062), (679, 0.18254323583420062), (713, 0.18254323583420062), (714, 0.18254323583420062), (727, 0.18254323583420062), (752, 0.18254323583420062), (753, 0.18254323583420062), (766, 0.18254323583420062), (801, 0.18254323583420062), (802, 0.18254323583420062), (840, 0.18254323583420062), (841, 0.18254323583420062), (867, 0.18254323583420062), (902, 0.18254323583420062), (927, 0.18254323583420062), (928, 0.18254323583420062), (940, 0.18254323583420062), (941, 0.18254323583420062), (953, 0.18254323583420062), (965, 0.18254323583420062), (966, 0.18254323583420062), (979, 0.18254323583420062), (1012, 0.18254323583420062), (1025, 0.18254323583420062), (1037, 0.18254323583420062), (1063, 0.18254323583420062), (1076, 0.18254323583420062), (1109, 0.18254323583420062), (1122, 0.18254323583420062), (1135, 0.18254323583420062), (1147, 0.18254323583420062), (1160, 0.18254323583420062), (1174, 0.18254323583420062), (1196, 0.18254323583420062), (1197, 0.18254323583420062), (1208, 0.18254323583420062), (1221, 0.18254323583420062), (1222, 0.18254323583420062), (28, 0.18206859754765156), (41, 0.18206859754765156), (67, 0.18206859754765156), (140, 0.18206859754765156), (153, 0.18206859754765156), (200, 0.18206859754765156), (213, 0.18206859754765156), (239, 0.18206859754765156), (262, 0.18206859754765156), (297, 0.18206859754765156), (310, 0.18206859754765156), (323, 0.18206859754765156), (336, 0.18206859754765156), (362, 0.18206859754765156), (375, 0.18206859754765156), (411, 0.18206859754765156), (437, 0.18206859754765156), (449, 0.18206859754765156), (475, 0.18206859754765156), (562, 0.18206859754765156), (634, 0.18206859754765156), (647, 0.18206859754765156), (660, 0.18206859754765156), (695, 0.18206859754765156), (721, 0.18206859754765156), (747, 0.18206859754765156), (809, 0.18206859754765156), (822, 0.18206859754765156), (835, 0.18206859754765156), (848, 0.18206859754765156), (861, 0.18206859754765156), (909, 0.18206859754765156), (947, 0.18206859754765156), (973, 0.18206859754765156), (1020, 0.18206859754765156), (1057, 0.18206859754765156), (1070, 0.18206859754765156), (1104, 0.18206859754765156), (1117, 0.18206859754765156), (1142, 0.18206859754765156), (1155, 0.18206859754765156), (1168, 0.18206859754765156), (1204, 0.18206859754765156), (20, 0.13520768605077055), (45, 0.13520768605077055), (58, 0.13520768605077055), (71, 0.13520768605077055), (84, 0.13520768605077055), (105, 0.13520768605077055), (144, 0.13520768605077055), (157, 0.13520768605077055), (169, 0.13520768605077055), (217, 0.13520768605077055), (230, 0.13520768605077055), (253, 0.13520768605077055), (327, 0.13520768605077055), (353, 0.13520768605077055), (402, 0.13520768605077055), (428, 0.13520768605077055), (453, 0.13520768605077055), (466, 0.13520768605077055), (501, 0.13520768605077055), (553, 0.13520768605077055), (566, 0.13520768605077055), (600, 0.13520768605077055), (625, 0.13520768605077055), (638, 0.13520768605077055), (651, 0.13520768605077055), (677, 0.13520768605077055), (699, 0.13520768605077055), (712, 0.13520768605077055), (725, 0.13520768605077055), (738, 0.13520768605077055), (751, 0.13520768605077055), (764, 0.13520768605077055), (826, 0.13520768605077055), (839, 0.13520768605077055), (852, 0.13520768605077055), (865, 0.13520768605077055), (878, 0.13520768605077055), (939, 0.13520768605077055), (999, 0.13520768605077055), (1011, 0.13520768605077055), (1024, 0.13520768605077055), (1049, 0.13520768605077055), (1061, 0.13520768605077055), (1074, 0.13520768605077055), (1121, 0.13520768605077055), (1133, 0.13520768605077055), (1159, 0.13520768605077055), (1172, 0.13520768605077055), (1195, 0.13520768605077055), (1207, 0.13520768605077055), (1220, 0.13520768605077055), (97, 0.1265622909762709), (292, 0.1265622909762709), (393, 0.1265622909762709), (492, 0.1265622909762709), (591, 0.1265622909762709), (790, 0.1265622909762709), (891, 0.1265622909762709), (990, 0.1265622909762709), (1186, 0.1265622909762709), (94, 0.12491345584097042), (192, 0.12491345584097042), (389, 0.12491345584097042), (588, 0.12491345584097042), (687, 0.12491345584097042), (888, 0.12491345584097042), (987, 0.12491345584097042), (1084, 0.12491345584097042), (538, 0.11715557962939702), (0, 0.11495602777001605), (12, 0.11495602777001605), (37, 0.11495602777001605), (50, 0.11495602777001605), (63, 0.11495602777001605), (98, 0.11495602777001605), (110, 0.11495602777001605), (136, 0.11495602777001605), (161, 0.11495602777001605), (174, 0.11495602777001605), (332, 0.11495602777001605), (358, 0.11495602777001605), (394, 0.11495602777001605), (420, 0.11495602777001605), (458, 0.11495602777001605), (519, 0.11495602777001605), (532, 0.11495602777001605), (558, 0.11495602777001605), (592, 0.11495602777001605), (617, 0.11495602777001605), (643, 0.11495602777001605), (656, 0.11495602777001605), (704, 0.11495602777001605), (743, 0.11495602777001605), (756, 0.11495602777001605), (769, 0.11495602777001605), (805, 0.11495602777001605), (857, 0.11495602777001605), (870, 0.11495602777001605), (892, 0.11495602777001605), (956, 0.11495602777001605), (969, 0.11495602777001605), (1016, 0.11495602777001605), (1041, 0.11495602777001605), (1066, 0.11495602777001605), (1101, 0.11495602777001605), (1113, 0.11495602777001605), (1151, 0.11495602777001605), (1187, 0.11495602777001605), (1200, 0.11495602777001605), (155, 0.1092490532559058), (962, 0.1092490532559058), (1219, 0.1092490532559058), (629, 0.10222181598479878), (381, 0.10124873772199654), (1161, 0.10124873772199654), (682, 0.09672288417842673), (1042, 0.09672288417842673), (158, 0.09367896970506862), (368, 0.09367896970506862), (462, 0.09361463568234023), (1108, 0.08665666347571487), (149, 0.0826949669716266), (445, 0.07915286515470644), (5, 0.0), (6, 0.0), (7, 0.0), (11, 0.0), (13, 0.0), (16, 0.0), (18, 0.0), (21, 0.0), (22, 0.0), (24, 0.0), (25, 0.0), (26, 0.0), (29, 0.0), (30, 0.0), (32, 0.0), (34, 0.0), (36, 0.0), (42, 0.0), (46, 0.0), (47, 0.0), (54, 0.0), (57, 0.0), (64, 0.0), (65, 0.0), (72, 0.0), (74, 0.0), (75, 0.0), (76, 0.0), (77, 0.0), (78, 0.0), (80, 0.0), (81, 0.0), (82, 0.0), (85, 0.0), (87, 0.0), (88, 0.0), (89, 0.0), (95, 0.0), (100, 0.0), (106, 0.0), (107, 0.0), (108, 0.0), (111, 0.0), (114, 0.0), (116, 0.0), (117, 0.0), (118, 0.0), (123, 0.0), (124, 0.0), (125, 0.0), (127, 0.0), (130, 0.0), (131, 0.0), (134, 0.0), (137, 0.0), (141, 0.0), (142, 0.0), (148, 0.0), (151, 0.0), (154, 0.0), (160, 0.0), (162, 0.0), (163, 0.0), (165, 0.0), (166, 0.0), (170, 0.0), (171, 0.0), (173, 0.0), (175, 0.0), (176, 0.0), (178, 0.0), (179, 0.0), (180, 0.0), (181, 0.0), (182, 0.0), (185, 0.0), (186, 0.0), (187, 0.0), (188, 0.0), (190, 0.0), (191, 0.0), (195, 0.0), (196, 0.0), (197, 0.0), (202, 0.0), (203, 0.0), (204, 0.0), (205, 0.0), (206, 0.0), (209, 0.0), (210, 0.0), (211, 0.0), (214, 0.0), (215, 0.0), (218, 0.0), (219, 0.0), (220, 0.0), (221, 0.0), (222, 0.0), (226, 0.0), (227, 0.0), (228, 0.0), (231, 0.0), (232, 0.0), (234, 0.0), (235, 0.0), (236, 0.0), (242, 0.0), (243, 0.0), (244, 0.0), (245, 0.0), (246, 0.0), (247, 0.0), (248, 0.0), (249, 0.0), (250, 0.0), (251, 0.0), (254, 0.0), (255, 0.0), (256, 0.0), (258, 0.0), (260, 0.0), (263, 0.0), (265, 0.0), (266, 0.0), (267, 0.0), (268, 0.0), (269, 0.0), (270, 0.0), (271, 0.0), (275, 0.0), (277, 0.0), (278, 0.0), (279, 0.0), (282, 0.0), (284, 0.0), (285, 0.0), (287, 0.0), (288, 0.0), (289, 0.0), (290, 0.0), (293, 0.0), (294, 0.0), (295, 0.0), (298, 0.0), (300, 0.0), (301, 0.0), (302, 0.0), (305, 0.0), (306, 0.0), (308, 0.0), (313, 0.0), (314, 0.0), (316, 0.0), (317, 0.0), (318, 0.0), (319, 0.0), (320, 0.0), (324, 0.0), (326, 0.0), (330, 0.0), (334, 0.0), (338, 0.0), (339, 0.0), (340, 0.0), (341, 0.0), (342, 0.0), (344, 0.0), (345, 0.0), (346, 0.0), (349, 0.0), (351, 0.0), (352, 0.0), (354, 0.0), (355, 0.0), (357, 0.0), (363, 0.0), (366, 0.0), (367, 0.0), (371, 0.0), (372, 0.0), (373, 0.0), (377, 0.0), (378, 0.0), (379, 0.0), (380, 0.0), (383, 0.0), (385, 0.0), (388, 0.0), (390, 0.0), (396, 0.0), (398, 0.0), (400, 0.0), (403, 0.0), (404, 0.0), (406, 0.0), (407, 0.0), (408, 0.0), (412, 0.0), (413, 0.0), (414, 0.0), (415, 0.0), (416, 0.0), (419, 0.0), (424, 0.0), (425, 0.0), (426, 0.0), (427, 0.0), (430, 0.0), (432, 0.0), (433, 0.0), (435, 0.0), (442, 0.0), (446, 0.0), (451, 0.0), (452, 0.0), (456, 0.0), (469, 0.0), (471, 0.0), (473, 0.0), (476, 0.0), (477, 0.0), (478, 0.0), (479, 0.0), (480, 0.0), (483, 0.0), (484, 0.0), (487, 0.0), (489, 0.0), (493, 0.0), (494, 0.0), (495, 0.0), (497, 0.0), (499, 0.0), (503, 0.0), (504, 0.0), (506, 0.0), (508, 0.0), (510, 0.0), (511, 0.0), (512, 0.0), (513, 0.0), (514, 0.0), (515, 0.0), (517, 0.0), (520, 0.0), (523, 0.0), (524, 0.0), (525, 0.0), (527, 0.0), (528, 0.0), (534, 0.0), (536, 0.0), (539, 0.0), (540, 0.0), (542, 0.0), (543, 0.0), (545, 0.0), (546, 0.0), (549, 0.0), (556, 0.0), (557, 0.0), (560, 0.0), (567, 0.0), (569, 0.0), (570, 0.0), (571, 0.0), (572, 0.0), (573, 0.0), (575, 0.0), (576, 0.0), (577, 0.0), (579, 0.0), (581, 0.0), (583, 0.0), (590, 0.0), (596, 0.0), (597, 0.0), (598, 0.0), (603, 0.0), (605, 0.0), (608, 0.0), (609, 0.0), (610, 0.0), (612, 0.0), (616, 0.0), (621, 0.0), (622, 0.0), (624, 0.0), (626, 0.0), (627, 0.0), (628, 0.0), (630, 0.0), (632, 0.0), (635, 0.0), (645, 0.0), (648, 0.0), (649, 0.0), (650, 0.0), (652, 0.0), (653, 0.0), (654, 0.0), (655, 0.0), (661, 0.0), (662, 0.0), (663, 0.0), (664, 0.0), (667, 0.0), (669, 0.0), (670, 0.0), (671, 0.0), (673, 0.0), (674, 0.0), (680, 0.0), (681, 0.0), (683, 0.0), (686, 0.0), (688, 0.0), (690, 0.0), (691, 0.0), (697, 0.0), (698, 0.0), (700, 0.0), (701, 0.0), (708, 0.0), (711, 0.0), (715, 0.0), (717, 0.0), (719, 0.0), (723, 0.0), (724, 0.0), (726, 0.0), (729, 0.0), (730, 0.0), (732, 0.0), (734, 0.0), (737, 0.0), (739, 0.0), (740, 0.0), (741, 0.0), (744, 0.0), (745, 0.0), (754, 0.0), (757, 0.0), (758, 0.0), (760, 0.0), (761, 0.0), (763, 0.0), (765, 0.0), (767, 0.0), (771, 0.0), (773, 0.0), (777, 0.0), (778, 0.0), (779, 0.0), (780, 0.0), (785, 0.0), (786, 0.0), (788, 0.0), (791, 0.0), (792, 0.0), (793, 0.0), (796, 0.0), (798, 0.0), (799, 0.0), (800, 0.0), (803, 0.0), (807, 0.0), (810, 0.0), (811, 0.0), (812, 0.0), (813, 0.0), (814, 0.0), (815, 0.0), (816, 0.0), (818, 0.0), (819, 0.0), (824, 0.0), (825, 0.0), (827, 0.0), (828, 0.0), (831, 0.0), (832, 0.0), (833, 0.0), (837, 0.0), (838, 0.0), (843, 0.0), (844, 0.0), (846, 0.0), (849, 0.0), (850, 0.0), (853, 0.0), (854, 0.0), (856, 0.0), (859, 0.0), (862, 0.0), (863, 0.0), (864, 0.0), (866, 0.0), (868, 0.0), (872, 0.0), (874, 0.0), (876, 0.0), (879, 0.0), (880, 0.0), (882, 0.0), (883, 0.0), (884, 0.0), (889, 0.0), (890, 0.0), (896, 0.0), (897, 0.0), (898, 0.0), (899, 0.0), (900, 0.0), (901, 0.0), (904, 0.0), (905, 0.0), (906, 0.0), (907, 0.0), (910, 0.0), (911, 0.0), (913, 0.0), (914, 0.0), (915, 0.0), (916, 0.0), (917, 0.0), (918, 0.0), (920, 0.0), (922, 0.0), (923, 0.0), (925, 0.0), (926, 0.0), (931, 0.0), (933, 0.0), (935, 0.0), (936, 0.0), (937, 0.0), (938, 0.0), (943, 0.0), (945, 0.0), (948, 0.0), (949, 0.0), (951, 0.0), (952, 0.0), (958, 0.0), (960, 0.0), (964, 0.0), (967, 0.0), (976, 0.0), (977, 0.0), (978, 0.0), (981, 0.0), (982, 0.0), (983, 0.0), (985, 0.0), (989, 0.0), (991, 0.0), (992, 0.0), (993, 0.0), (995, 0.0), (996, 0.0), (1000, 0.0), (1002, 0.0), (1003, 0.0), (1005, 0.0), (1007, 0.0), (1008, 0.0), (1010, 0.0), (1013, 0.0), (1017, 0.0), (1018, 0.0), (1021, 0.0), (1023, 0.0), (1026, 0.0), (1029, 0.0), (1030, 0.0), (1031, 0.0), (1033, 0.0), (1034, 0.0), (1035, 0.0), (1036, 0.0), (1038, 0.0), (1039, 0.0), (1040, 0.0), (1043, 0.0), (1045, 0.0), (1050, 0.0), (1051, 0.0), (1053, 0.0), (1054, 0.0), (1055, 0.0), (1058, 0.0), (1059, 0.0), (1060, 0.0), (1062, 0.0), (1064, 0.0), (1067, 0.0), (1073, 0.0), (1075, 0.0), (1082, 0.0), (1085, 0.0), (1086, 0.0), (1087, 0.0), (1088, 0.0), (1089, 0.0), (1092, 0.0), (1093, 0.0), (1096, 0.0), (1097, 0.0), (1098, 0.0), (1099, 0.0), (1100, 0.0), (1102, 0.0), (1103, 0.0), (1105, 0.0), (1106, 0.0), (1110, 0.0), (1111, 0.0), (1112, 0.0), (1118, 0.0), (1119, 0.0), (1123, 0.0), (1125, 0.0), (1126, 0.0), (1130, 0.0), (1131, 0.0), (1132, 0.0), (1134, 0.0), (1137, 0.0), (1138, 0.0), (1139, 0.0), (1143, 0.0), (1146, 0.0), (1148, 0.0), (1150, 0.0), (1152, 0.0), (1162, 0.0), (1163, 0.0), (1164, 0.0), (1165, 0.0), (1166, 0.0), (1170, 0.0), (1171, 0.0), (1173, 0.0), (1175, 0.0), (1176, 0.0), (1177, 0.0), (1180, 0.0), (1182, 0.0), (1184, 0.0), (1188, 0.0), (1189, 0.0), (1191, 0.0), (1192, 0.0), (1193, 0.0), (1194, 0.0), (1199, 0.0), (1201, 0.0), (1202, 0.0), (1209, 0.0), (1210, 0.0), (1211, 0.0), (1212, 0.0), (1214, 0.0), (1216, 0.0), (1217, 0.0), (1224, 0.0), (1225, 0.0), (1226, 0.0), (1227, 0.0), (1229, 0.0)]\n"
          ]
        }
      ]
    },
    {
      "cell_type": "code",
      "source": [
        "print('Suggested connections : \\n')\n",
        "i = 1\n",
        "for p in sorted_output:\n",
        "  index = p[0]\n",
        "  name = df[df.index==index]['NAME'].values[0]\n",
        "  if (i<11):\n",
        "    print(i,'.',name)\n",
        "    i+=1"
      ],
      "metadata": {
        "colab": {
          "base_uri": "https://localhost:8080/",
          "height": 458
        },
        "id": "izYgNnIewI-f",
        "outputId": "a22e03b9-6352-4177-decc-b24b8a43e0f3"
      },
      "execution_count": 189,
      "outputs": [
        {
          "output_type": "stream",
          "name": "stdout",
          "text": [
            "Suggested connections : \n",
            "\n",
            "1 . Harshit Saini\n",
            "2 . Kausik Biswas\n",
            "3 . Monika Bhalla\n",
            "4 . Om Technologies and Designing\n",
            "5 . Peera Thongsilp\n",
            "6 . zar Design STUDIO\n",
            "7 . Siddharth Das\n",
            "8 . Anubhav Mehrotra\n",
            "9 . Neha Pasricha\n",
            "10 . Pavana laxmi\n"
          ]
        },
        {
          "output_type": "error",
          "ename": "IndexError",
          "evalue": "ignored",
          "traceback": [
            "\u001b[0;31m---------------------------------------------------------------------------\u001b[0m",
            "\u001b[0;31mIndexError\u001b[0m                                Traceback (most recent call last)",
            "\u001b[0;32m<ipython-input-189-69ba930a0998>\u001b[0m in \u001b[0;36m<module>\u001b[0;34m\u001b[0m\n\u001b[1;32m      3\u001b[0m \u001b[0;32mfor\u001b[0m \u001b[0mp\u001b[0m \u001b[0;32min\u001b[0m \u001b[0msorted_output\u001b[0m\u001b[0;34m:\u001b[0m\u001b[0;34m\u001b[0m\u001b[0;34m\u001b[0m\u001b[0m\n\u001b[1;32m      4\u001b[0m   \u001b[0mindex\u001b[0m \u001b[0;34m=\u001b[0m \u001b[0mp\u001b[0m\u001b[0;34m[\u001b[0m\u001b[0;36m0\u001b[0m\u001b[0;34m]\u001b[0m\u001b[0;34m\u001b[0m\u001b[0;34m\u001b[0m\u001b[0m\n\u001b[0;32m----> 5\u001b[0;31m   \u001b[0mname\u001b[0m \u001b[0;34m=\u001b[0m \u001b[0mdf\u001b[0m\u001b[0;34m[\u001b[0m\u001b[0mdf\u001b[0m\u001b[0;34m.\u001b[0m\u001b[0mindex\u001b[0m\u001b[0;34m==\u001b[0m\u001b[0mindex\u001b[0m\u001b[0;34m]\u001b[0m\u001b[0;34m[\u001b[0m\u001b[0;34m'NAME'\u001b[0m\u001b[0;34m]\u001b[0m\u001b[0;34m.\u001b[0m\u001b[0mvalues\u001b[0m\u001b[0;34m[\u001b[0m\u001b[0;36m0\u001b[0m\u001b[0;34m]\u001b[0m\u001b[0;34m\u001b[0m\u001b[0;34m\u001b[0m\u001b[0m\n\u001b[0m\u001b[1;32m      6\u001b[0m   \u001b[0;32mif\u001b[0m \u001b[0;34m(\u001b[0m\u001b[0mi\u001b[0m\u001b[0;34m<\u001b[0m\u001b[0;36m11\u001b[0m\u001b[0;34m)\u001b[0m\u001b[0;34m:\u001b[0m\u001b[0;34m\u001b[0m\u001b[0;34m\u001b[0m\u001b[0m\n\u001b[1;32m      7\u001b[0m     \u001b[0mprint\u001b[0m\u001b[0;34m(\u001b[0m\u001b[0mi\u001b[0m\u001b[0;34m,\u001b[0m\u001b[0;34m'.'\u001b[0m\u001b[0;34m,\u001b[0m\u001b[0mname\u001b[0m\u001b[0;34m)\u001b[0m\u001b[0;34m\u001b[0m\u001b[0;34m\u001b[0m\u001b[0m\n",
            "\u001b[0;31mIndexError\u001b[0m: index 0 is out of bounds for axis 0 with size 0"
          ]
        }
      ]
    }
  ]
}